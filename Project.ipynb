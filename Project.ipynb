{
 "cells": [
  {
   "cell_type": "code",
   "execution_count": 1,
   "id": "52e41d44-24d1-4b97-8a29-7917029d0ee0",
   "metadata": {},
   "outputs": [],
   "source": [
    "import pyiast\n",
    "import pandas as pd\n",
    "import numpy as np\n",
    "import matplotlib.pyplot as plt"
   ]
  },
  {
   "cell_type": "markdown",
   "id": "c4b04180-0b1c-45e4-9343-95c13304e429",
   "metadata": {},
   "source": [
    "#### AiiDA lab data importation"
   ]
  },
  {
   "cell_type": "code",
   "execution_count": 27,
   "id": "6d5f7529-e4da-464e-85fc-45103ecb4e7c",
   "metadata": {},
   "outputs": [],
   "source": [
    "def conv_to_csv(pressure,loading_absolute_average,mof_gas):\n",
    "    df = pd.DataFrame({\n",
    "        'Pressure (bar)': pressure,\n",
    "        'Loading (mmol/g)': loading_absolute_average\n",
    "    })\n",
    "\n",
    "    file_name = f'isotherm_data_{mof_gas}.csv'\n",
    "    df.to_csv(file_name, index=False)\n",
    "    return\n",
    "\n",
    "#import data from the csv file\n",
    "def import_data(mof_gas):\n",
    "    file_name = f'isotherm_data_{mof_gas}.csv'\n",
    "    df_mof = pd.read_csv(file_name)\n",
    "    return df_mof\n",
    "\n",
    "#UTSA 80 Aiida lab data\n",
    "P_CO2 = [0.2, 0.8, 1.4, 2.0, 2.6, 3.2, 3.8, 4.4, 5.0, 5.6, 6.2, 6.8, 7.4, 8.0, 8.6, 9.2, 9.8, 10.2]\n",
    "q_avg_CO2= [0.31424485381695, 1.1580909367748, 2.038693985348, 2.9664843410745, 3.8041249233618, 4.7398294176147, 5.6300892453135, 6.571769721719, 7.5454467796638, 8.1926294954818, 9.0655394233608, 9.9333829424732, 10.499469115282, 11.176310724031, 11.800907117546, 12.322322186213, 12.73597406036, 13.056237399758]\n",
    "\n",
    "P_N2 =  [0.2, 0.8, 1.4, 2.0, 2.6, 3.2, 3.8, 4.4, 5.0, 5.6, 6.2, 6.8, 7.4, 8.0, 8.6, 9.2, 9.8, 10.2]\n",
    "q_avg_N2 = [0.06563379544785, 0.26439683199255, 0.45816146525745, 0.62400984619095, 0.8023627360098, 0.97143287688045, 1.1356066227015, 1.3174702957764, 1.4491204175354, 1.6241835419303, 1.7920465854102, 1.9268249595619, 2.1054243692705, 2.239310171408, 2.337518595033, 2.5546176109562, 2.6749108164195, 2.7594671385695]\n",
    "\n",
    "mof_CO2 = \"UTSA_80_CO2\"\n",
    "mof_N2 = \"UTSA_80_N2\"\n",
    "\n",
    "#fichier_CO2 = conv_to_csv(P_CO2,q_avg_CO2,mof_CO2)\n",
    "#fichier_N2 = conv_to_csv(P_N2,q_avg_N2,mof_N2)"
   ]
  },
  {
   "cell_type": "markdown",
   "id": "107c104f-b5ad-4f26-b8a7-6efc96af1048",
   "metadata": {},
   "source": [
    "#### Loading q values in pure conditions"
   ]
  },
  {
   "cell_type": "code",
   "execution_count": 3,
   "id": "a9db3882-6eb7-4eff-92c8-e8303f23c171",
   "metadata": {},
   "outputs": [],
   "source": [
    "def get_pure_q(df_mof):\n",
    "    pure_isotherm = pyiast.InterpolatorIsotherm(df_mof,\n",
    "                                        loading_key=\"Loading (mmol/g)\",\n",
    "                                        pressure_key=\"Pressure (bar)\")\n",
    "    pure_isotherm = pyiast.InterpolatorIsotherm(df_mof,\n",
    "                                        loading_key=\"Loading (mmol/g)\",\n",
    "                                        pressure_key=\"Pressure (bar)\",\n",
    "                                        fill_value=df_mof['Loading (mmol/g)'].max())\n",
    "    return pure_isotherm"
   ]
  },
  {
   "cell_type": "markdown",
   "id": "cb781329-f645-41cf-a2a1-6c814d9c30cb",
   "metadata": {},
   "source": [
    "#### Loading q values in binary mixture"
   ]
  },
  {
   "cell_type": "code",
   "execution_count": 4,
   "id": "e07c513f-ba5c-4056-ba0c-140d7d06a02a",
   "metadata": {},
   "outputs": [],
   "source": [
    "def get_mixt_q(N2_isotherm, CO2_isotherm, pressure):\n",
    "    p_part = pressure*np.array([0.85,0.15])\n",
    "    q_mix = pyiast.iast(p_part, [N2_isotherm, CO2_isotherm], verboseflag=False)\n",
    "    return q_mix"
   ]
  },
  {
   "cell_type": "markdown",
   "id": "9b0a562e-dc8d-4887-a601-b3b0bbf3820a",
   "metadata": {},
   "source": [
    "#### selectivity and binary mixture loading calculation"
   ]
  },
  {
   "cell_type": "code",
   "execution_count": 19,
   "id": "21441cbb-385c-402d-a8c1-4720afb6fe5f",
   "metadata": {},
   "outputs": [],
   "source": [
    "def get_selectivity(mof_N2,mof_CO2, S_pressure):\n",
    "    name_N2 = f\"{mof_N2}\"\n",
    "    name_CO2 = f\"{mof_CO2}\"\n",
    "\n",
    "    df_N2 = import_data(name_N2)\n",
    "    df_CO2 = import_data(name_CO2)\n",
    "    \n",
    "    N2_isotherm = get_pure_q(df_N2)\n",
    "    CO2_isotherm = get_pure_q(df_CO2)\n",
    "    \n",
    "    q_mix = get_mixt_q(N2_isotherm, CO2_isotherm, S_pressure)\n",
    "    Selectivity_mof = (0.85/0.15)*(q_mix[1]/q_mix[0])\n",
    "    return Selectivity_mof"
   ]
  },
  {
   "cell_type": "markdown",
   "id": "61774641-79f4-4e94-9373-5d436af377ec",
   "metadata": {},
   "source": [
    "#### values computation and display"
   ]
  },
  {
   "cell_type": "code",
   "execution_count": 29,
   "id": "8605a277-b26b-464f-936f-b17548444980",
   "metadata": {},
   "outputs": [
    {
     "name": "stdout",
     "output_type": "stream",
     "text": [
      "\u001b[1mMOF             Selectivity    \u001b[0m\n",
      "UTSA_20         8.1            \n",
      "UTSA_80         4.7            \n",
      "Mg_74           4.6            \n",
      "NOTT_300        16.5           \n"
     ]
    }
   ],
   "source": [
    "S_pressure = 1 #bar\n",
    "MOF = [\"UTSA_20\",\"UTSA_80\",\"Mg_74\",\"NOTT_300\"]\n",
    "S = []\n",
    "\n",
    "for i in range(len(MOF)):\n",
    "    mof_N2 = f'{MOF[i]}_N2'\n",
    "    mof_CO2 = f'{MOF[i]}_CO2'\n",
    "    S_mof = get_selectivity(mof_N2,mof_CO2, S_pressure)\n",
    "    S.append(round(float(S_mof),2))\n",
    "\n",
    "#print the results\n",
    "BOLD = \"\\033[1m\"\n",
    "RESET = \"\\033[0m\"\n",
    "\n",
    "column1 = [\"MOF\"] + MOF\n",
    "print(f\"{BOLD}{column1[0]:<15} {'Selectivity':<15}{RESET}\")\n",
    "\n",
    "for item1, item2 in zip(column1[1:], S):\n",
    "    print(f\"{item1:<15} {round(item2, 1):<15}\")"
   ]
  },
  {
   "cell_type": "code",
   "execution_count": null,
   "id": "e3aff160-1199-4f7c-aa17-b9898433f2ab",
   "metadata": {},
   "outputs": [],
   "source": []
  }
 ],
 "metadata": {
  "kernelspec": {
   "display_name": "Python 3 (ipykernel)",
   "language": "python",
   "name": "python3"
  },
  "language_info": {
   "codemirror_mode": {
    "name": "ipython",
    "version": 3
   },
   "file_extension": ".py",
   "mimetype": "text/x-python",
   "name": "python",
   "nbconvert_exporter": "python",
   "pygments_lexer": "ipython3",
   "version": "3.10.14"
  }
 },
 "nbformat": 4,
 "nbformat_minor": 5
}
