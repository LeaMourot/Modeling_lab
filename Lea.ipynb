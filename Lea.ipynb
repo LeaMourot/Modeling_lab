{
 "cells": [
  {
   "cell_type": "code",
   "execution_count": 2,
   "id": "53aef718-bb06-4fcf-9786-b2b44920bbe0",
   "metadata": {},
   "outputs": [
    {
     "name": "stdout",
     "output_type": "stream",
     "text": [
      "   AtomicNumber Symbol       Name  AtomicMass CPKHexColor  \\\n",
      "0             1      H   Hydrogen    1.008000      FFFFFF   \n",
      "1             2     He     Helium    4.002600      D9FFFF   \n",
      "2             3     Li    Lithium    7.000000      CC80FF   \n",
      "3             4     Be  Beryllium    9.012183      C2FF00   \n",
      "4             5      B      Boron   10.810000      FFB5B5   \n",
      "\n",
      "  ElectronConfiguration  Electronegativity  AtomicRadius  IonizationEnergy  \\\n",
      "0                   1s1               2.20         120.0            13.598   \n",
      "1                   1s2                NaN         140.0            24.587   \n",
      "2               [He]2s1               0.98         182.0             5.392   \n",
      "3               [He]2s2               1.57         153.0             9.323   \n",
      "4           [He]2s2 2p1               2.04         192.0             8.298   \n",
      "\n",
      "   ElectronAffinity OxidationStates StandardState  MeltingPoint  BoilingPoint  \\\n",
      "0             0.754          +1, -1           Gas         13.81         20.28   \n",
      "1               NaN               0           Gas          0.95          4.22   \n",
      "2             0.618              +1         Solid        453.65       1615.00   \n",
      "3               NaN              +2         Solid       1560.00       2744.00   \n",
      "4             0.277              +3         Solid       2348.00       4273.00   \n",
      "\n",
      "    Density            GroupBlock YearDiscovered  \n",
      "0  0.000090              Nonmetal           1766  \n",
      "1  0.000179             Noble gas           1868  \n",
      "2  0.534000          Alkali metal           1817  \n",
      "3  1.850000  Alkaline earth metal           1798  \n",
      "4  2.370000             Metalloid           1808  \n"
     ]
    }
   ],
   "source": [
    "import pandas as pd\n",
    "\n",
    "df = pd.read_csv('.\\\\1-PeriodicTable.csv')\n",
    "\n",
    "print(df.head())"
   ]
  },
  {
   "cell_type": "code",
   "execution_count": 4,
   "id": "a5e5982a-dc73-47b4-a86e-5ad9768bd7e8",
   "metadata": {},
   "outputs": [
    {
     "name": "stdout",
     "output_type": "stream",
     "text": [
      "Hydrogen: 120.0\n",
      "Type: <class 'numpy.float64'>\n"
     ]
    }
   ],
   "source": [
    "hydrogen=df.loc[0,'AtomicRadius']\n",
    "print(f\"Hydrogen: {hydrogen}\")\n",
    "print(f\"Type: {type(hydrogen)}\")"
   ]
  },
  {
   "cell_type": "code",
   "execution_count": null,
   "id": "118f194a-c2c7-487b-8f39-0fac4289ee66",
   "metadata": {},
   "outputs": [],
   "source": []
  }
 ],
 "metadata": {
  "kernelspec": {
   "display_name": "Python 3 (ipykernel)",
   "language": "python",
   "name": "python3"
  },
  "language_info": {
   "codemirror_mode": {
    "name": "ipython",
    "version": 3
   },
   "file_extension": ".py",
   "mimetype": "text/x-python",
   "name": "python",
   "nbconvert_exporter": "python",
   "pygments_lexer": "ipython3",
   "version": "3.10.14"
  }
 },
 "nbformat": 4,
 "nbformat_minor": 5
}
