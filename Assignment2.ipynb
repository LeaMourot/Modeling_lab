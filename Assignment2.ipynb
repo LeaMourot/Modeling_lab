{
 "cells": [
  {
   "cell_type": "code",
   "execution_count": 34,
   "id": "e01efd87-69a4-47bb-879e-7004d78eed40",
   "metadata": {},
   "outputs": [],
   "source": [
    "import numpy as np\n",
    "import matplotlib.pyplot as plt\n",
    "import pyiast\n",
    "import pandas as pd"
   ]
  },
  {
   "cell_type": "code",
   "execution_count": 84,
   "id": "fe6e554f-aa3e-4283-9850-0c99c5fa7382",
   "metadata": {},
   "outputs": [
    {
     "data": {
      "text/html": [
       "<div>\n",
       "<style scoped>\n",
       "    .dataframe tbody tr th:only-of-type {\n",
       "        vertical-align: middle;\n",
       "    }\n",
       "\n",
       "    .dataframe tbody tr th {\n",
       "        vertical-align: top;\n",
       "    }\n",
       "\n",
       "    .dataframe thead th {\n",
       "        text-align: right;\n",
       "    }\n",
       "</style>\n",
       "<table border=\"1\" class=\"dataframe\">\n",
       "  <thead>\n",
       "    <tr style=\"text-align: right;\">\n",
       "      <th></th>\n",
       "      <th>Pressure (bar)</th>\n",
       "      <th>Loading (mmol/g)</th>\n",
       "    </tr>\n",
       "  </thead>\n",
       "  <tbody>\n",
       "    <tr>\n",
       "      <th>0</th>\n",
       "      <td>0.2</td>\n",
       "      <td>0.021916</td>\n",
       "    </tr>\n",
       "    <tr>\n",
       "      <th>1</th>\n",
       "      <td>0.8</td>\n",
       "      <td>0.086853</td>\n",
       "    </tr>\n",
       "    <tr>\n",
       "      <th>2</th>\n",
       "      <td>1.4</td>\n",
       "      <td>0.153770</td>\n",
       "    </tr>\n",
       "    <tr>\n",
       "      <th>3</th>\n",
       "      <td>2.0</td>\n",
       "      <td>0.222181</td>\n",
       "    </tr>\n",
       "    <tr>\n",
       "      <th>4</th>\n",
       "      <td>2.6</td>\n",
       "      <td>0.291501</td>\n",
       "    </tr>\n",
       "  </tbody>\n",
       "</table>\n",
       "</div>"
      ],
      "text/plain": [
       "   Pressure (bar)  Loading (mmol/g)\n",
       "0             0.2          0.021916\n",
       "1             0.8          0.086853\n",
       "2             1.4          0.153770\n",
       "3             2.0          0.222181\n",
       "4             2.6          0.291501"
      ]
     },
     "execution_count": 84,
     "metadata": {},
     "output_type": "execute_result"
    }
   ],
   "source": [
    "# Charger les données d'adsorption pour le méthane\n",
    "df_co2 = pd.read_csv(\"CO2_IRMOF-1_veritable.csv\")\n",
    "df_ch4 = pd.read_csv(\"isotherm_data_ch4.csv\")\n",
    "df_ch4.head()"
   ]
  },
  {
   "cell_type": "code",
   "execution_count": 85,
   "id": "1d97eba9-e170-478e-8e2c-e4f6caf587e5",
   "metadata": {},
   "outputs": [
    {
     "data": {
      "text/html": [
       "<div>\n",
       "<style scoped>\n",
       "    .dataframe tbody tr th:only-of-type {\n",
       "        vertical-align: middle;\n",
       "    }\n",
       "\n",
       "    .dataframe tbody tr th {\n",
       "        vertical-align: top;\n",
       "    }\n",
       "\n",
       "    .dataframe thead th {\n",
       "        text-align: right;\n",
       "    }\n",
       "</style>\n",
       "<table border=\"1\" class=\"dataframe\">\n",
       "  <thead>\n",
       "    <tr style=\"text-align: right;\">\n",
       "      <th></th>\n",
       "      <th>pressure (bar)</th>\n",
       "      <th>loading (mmol/g)</th>\n",
       "    </tr>\n",
       "  </thead>\n",
       "  <tbody>\n",
       "    <tr>\n",
       "      <th>0</th>\n",
       "      <td>0.2</td>\n",
       "      <td>0.086528</td>\n",
       "    </tr>\n",
       "    <tr>\n",
       "      <th>1</th>\n",
       "      <td>0.8</td>\n",
       "      <td>0.360042</td>\n",
       "    </tr>\n",
       "    <tr>\n",
       "      <th>2</th>\n",
       "      <td>1.4</td>\n",
       "      <td>0.642906</td>\n",
       "    </tr>\n",
       "    <tr>\n",
       "      <th>3</th>\n",
       "      <td>2.0</td>\n",
       "      <td>0.961811</td>\n",
       "    </tr>\n",
       "    <tr>\n",
       "      <th>4</th>\n",
       "      <td>2.6</td>\n",
       "      <td>1.214057</td>\n",
       "    </tr>\n",
       "  </tbody>\n",
       "</table>\n",
       "</div>"
      ],
      "text/plain": [
       "   pressure (bar)  loading (mmol/g)\n",
       "0             0.2          0.086528\n",
       "1             0.8          0.360042\n",
       "2             1.4          0.642906\n",
       "3             2.0          0.961811\n",
       "4             2.6          1.214057"
      ]
     },
     "execution_count": 85,
     "metadata": {},
     "output_type": "execute_result"
    }
   ],
   "source": [
    "df_co2.head()"
   ]
  },
  {
   "cell_type": "code",
   "execution_count": 89,
   "id": "630e9cc0-4db2-43f6-a88e-c254edb7311f",
   "metadata": {},
   "outputs": [
    {
     "name": "stdout",
     "output_type": "stream",
     "text": [
      "0.0109580750235\n",
      "0.10915866141928\n",
      "0.22218105892092\n",
      "0.33689181168543997\n"
     ]
    }
   ],
   "source": [
    "ch4_isotherm = pyiast.InterpolatorIsotherm(df_ch4,\n",
    "                                    loading_key=\"Loading (mmol/g)\",\n",
    "                                    pressure_key=\"Pressure (bar)\")\n",
    "ch4_isotherm = pyiast.InterpolatorIsotherm(df_ch4,\n",
    "                                    loading_key=\"Loading (mmol/g)\",\n",
    "                                    pressure_key=\"Pressure (bar)\",\n",
    "                                    fill_value=df_ch4['Loading (mmol/g)'].max())\n",
    "q_01_ch4= ch4_isotherm.loading(0.1)\n",
    "print(q_01_ch4)\n",
    "q_1_ch4=ch4_isotherm.loading(1)\n",
    "print(q_1_ch4)\n",
    "q_2_ch4=ch4_isotherm.loading(2)\n",
    "print(q_2_ch4)\n",
    "q_3_ch4=ch4_isotherm.loading(3)\n",
    "print(q_3_ch4)"
   ]
  },
  {
   "cell_type": "code",
   "execution_count": 92,
   "id": "70c54ec5-7937-4b29-babf-9669fbff7374",
   "metadata": {},
   "outputs": [],
   "source": [
    "co2_isotherm = pyiast.InterpolatorIsotherm(df_co2,\n",
    "                                    loading_key=\"loading (mmol/g)\",\n",
    "                                    pressure_key=\"pressure (bar)\")\n",
    "co2_isotherm = pyiast.InterpolatorIsotherm(df_co2,\n",
    "                                    loading_key=\"loading (mmol/g)\",\n",
    "                                    pressure_key=\"pressure (bar)\",\n",
    "                                    fill_value=df_co2['loading (mmol/g)'].max())"
   ]
  },
  {
   "cell_type": "code",
   "execution_count": 93,
   "id": "299a6a7d-4f68-423f-8631-6bbc5dec51ce",
   "metadata": {},
   "outputs": [
    {
     "name": "stdout",
     "output_type": "stream",
     "text": [
      "0.0432641036113\n",
      "0.45432990756691993\n",
      "0.96181053754412\n",
      "1.4392579248643\n"
     ]
    }
   ],
   "source": [
    "q_01_co2= co2_isotherm.loading(0.1)\n",
    "print(q_01_co2)\n",
    "q_1_co2=co2_isotherm.loading(1)\n",
    "print(q_1_co2)\n",
    "q_2_co2=co2_isotherm.loading(2)\n",
    "print(q_2_co2)\n",
    "q_3_co2=co2_isotherm.loading(3)\n",
    "print(q_3_co2)"
   ]
  },
  {
   "cell_type": "code",
   "execution_count": 94,
   "id": "701ab42b-d89f-4339-9d0a-5c3f8c965387",
   "metadata": {},
   "outputs": [
    {
     "name": "stdout",
     "output_type": "stream",
     "text": [
      "5.9222222222222225\n",
      "6.243158834027364\n",
      "6.493423936869794\n",
      "6.408249807247406\n"
     ]
    }
   ],
   "source": [
    "\n",
    "\n",
    "S_01=((q_01_co2)*0.6)/((q_01_ch4)*0.4)\n",
    "S_1=((q_1_co2)*0.6)/((q_1_ch4)*0.4)\n",
    "S_2=((q_2_co2)*0.6)/((q_2_ch4)*0.4)\n",
    "S_3=((q_3_co2)*0.6)/((q_3_ch4)*0.4)\n",
    "\n",
    "print(S_01)\n",
    "print(S_1)\n",
    "print(S_2)\n",
    "print(S_3)\n"
   ]
  },
  {
   "cell_type": "code",
   "execution_count": 104,
   "id": "1342976e-7f12-4f9c-88e3-3e5780d0baec",
   "metadata": {},
   "outputs": [
    {
     "name": "stdout",
     "output_type": "stream",
     "text": [
      "5.9222222222222225\n",
      "5.9222222222222225\n"
     ]
    }
   ],
   "source": [
    "S_preuve1=((q_01_co2)*0.6)/((q_01_ch4)*0.4)\n",
    "S_preuve2=((q_01_co2)*0.3)/((q_01_ch4)*0.2)\n",
    "print(S_preuve1)\n",
    "print(S_preuve2)\n",
    "\n",
    "divise par 2 de chaque coté"
   ]
  },
  {
   "cell_type": "code",
   "execution_count": null,
   "id": "f2989e47-5a37-4070-a1a9-0148b8a096f5",
   "metadata": {},
   "outputs": [],
   "source": []
  }
 ],
 "metadata": {
  "kernelspec": {
   "display_name": "Python 3 (ipykernel)",
   "language": "python",
   "name": "python3"
  },
  "language_info": {
   "codemirror_mode": {
    "name": "ipython",
    "version": 3
   },
   "file_extension": ".py",
   "mimetype": "text/x-python",
   "name": "python",
   "nbconvert_exporter": "python",
   "pygments_lexer": "ipython3",
   "version": "3.10.14"
  }
 },
 "nbformat": 4,
 "nbformat_minor": 5
}
