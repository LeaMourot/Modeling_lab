{
 "cells": [
  {
   "cell_type": "code",
   "execution_count": 2,
   "id": "e01efd87-69a4-47bb-879e-7004d78eed40",
   "metadata": {},
   "outputs": [],
   "source": [
    "import numpy as np\n",
    "import matplotlib.pyplot as plt\n",
    "import pyiast\n",
    "import pandas as pd"
   ]
  },
  {
   "cell_type": "markdown",
   "id": "a87176b8-4bc0-46b1-8b20-b0448b35f61a",
   "metadata": {},
   "source": [
    "Let's first calculate the selectivity using our own results and then we compare with the ones given."
   ]
  },
  {
   "cell_type": "code",
   "execution_count": 14,
   "id": "fe6e554f-aa3e-4283-9850-0c99c5fa7382",
   "metadata": {},
   "outputs": [
    {
     "data": {
      "text/html": [
       "<div>\n",
       "<style scoped>\n",
       "    .dataframe tbody tr th:only-of-type {\n",
       "        vertical-align: middle;\n",
       "    }\n",
       "\n",
       "    .dataframe tbody tr th {\n",
       "        vertical-align: top;\n",
       "    }\n",
       "\n",
       "    .dataframe thead th {\n",
       "        text-align: right;\n",
       "    }\n",
       "</style>\n",
       "<table border=\"1\" class=\"dataframe\">\n",
       "  <thead>\n",
       "    <tr style=\"text-align: right;\">\n",
       "      <th></th>\n",
       "      <th>Pressure (bar)</th>\n",
       "      <th>Loading (mmol/g)</th>\n",
       "    </tr>\n",
       "  </thead>\n",
       "  <tbody>\n",
       "    <tr>\n",
       "      <th>0</th>\n",
       "      <td>0.2</td>\n",
       "      <td>0.021916</td>\n",
       "    </tr>\n",
       "    <tr>\n",
       "      <th>1</th>\n",
       "      <td>0.8</td>\n",
       "      <td>0.086853</td>\n",
       "    </tr>\n",
       "    <tr>\n",
       "      <th>2</th>\n",
       "      <td>1.4</td>\n",
       "      <td>0.153770</td>\n",
       "    </tr>\n",
       "    <tr>\n",
       "      <th>3</th>\n",
       "      <td>2.0</td>\n",
       "      <td>0.222181</td>\n",
       "    </tr>\n",
       "    <tr>\n",
       "      <th>4</th>\n",
       "      <td>2.6</td>\n",
       "      <td>0.291501</td>\n",
       "    </tr>\n",
       "  </tbody>\n",
       "</table>\n",
       "</div>"
      ],
      "text/plain": [
       "   Pressure (bar)  Loading (mmol/g)\n",
       "0             0.2          0.021916\n",
       "1             0.8          0.086853\n",
       "2             1.4          0.153770\n",
       "3             2.0          0.222181\n",
       "4             2.6          0.291501"
      ]
     },
     "execution_count": 14,
     "metadata": {},
     "output_type": "execute_result"
    }
   ],
   "source": [
    "# Charger les données d'adsorption pour le méthane\n",
    "df_co2 = pd.read_csv(\"CO2_IRMOF-1_veritable.csv\")\n",
    "df_ch4 = pd.read_csv(\"isotherm_data_ch4.csv\")\n",
    "df_ch4.head()"
   ]
  },
  {
   "cell_type": "code",
   "execution_count": 15,
   "id": "1d97eba9-e170-478e-8e2c-e4f6caf587e5",
   "metadata": {},
   "outputs": [
    {
     "data": {
      "text/html": [
       "<div>\n",
       "<style scoped>\n",
       "    .dataframe tbody tr th:only-of-type {\n",
       "        vertical-align: middle;\n",
       "    }\n",
       "\n",
       "    .dataframe tbody tr th {\n",
       "        vertical-align: top;\n",
       "    }\n",
       "\n",
       "    .dataframe thead th {\n",
       "        text-align: right;\n",
       "    }\n",
       "</style>\n",
       "<table border=\"1\" class=\"dataframe\">\n",
       "  <thead>\n",
       "    <tr style=\"text-align: right;\">\n",
       "      <th></th>\n",
       "      <th>pressure (bar)</th>\n",
       "      <th>loading (mmol/g)</th>\n",
       "    </tr>\n",
       "  </thead>\n",
       "  <tbody>\n",
       "    <tr>\n",
       "      <th>0</th>\n",
       "      <td>0.2</td>\n",
       "      <td>0.086528</td>\n",
       "    </tr>\n",
       "    <tr>\n",
       "      <th>1</th>\n",
       "      <td>0.8</td>\n",
       "      <td>0.360042</td>\n",
       "    </tr>\n",
       "    <tr>\n",
       "      <th>2</th>\n",
       "      <td>1.4</td>\n",
       "      <td>0.642906</td>\n",
       "    </tr>\n",
       "    <tr>\n",
       "      <th>3</th>\n",
       "      <td>2.0</td>\n",
       "      <td>0.961811</td>\n",
       "    </tr>\n",
       "    <tr>\n",
       "      <th>4</th>\n",
       "      <td>2.6</td>\n",
       "      <td>1.214057</td>\n",
       "    </tr>\n",
       "  </tbody>\n",
       "</table>\n",
       "</div>"
      ],
      "text/plain": [
       "   pressure (bar)  loading (mmol/g)\n",
       "0             0.2          0.086528\n",
       "1             0.8          0.360042\n",
       "2             1.4          0.642906\n",
       "3             2.0          0.961811\n",
       "4             2.6          1.214057"
      ]
     },
     "execution_count": 15,
     "metadata": {},
     "output_type": "execute_result"
    }
   ],
   "source": [
    "df_co2.head()"
   ]
  },
  {
   "cell_type": "code",
   "execution_count": 16,
   "id": "630e9cc0-4db2-43f6-a88e-c254edb7311f",
   "metadata": {},
   "outputs": [
    {
     "name": "stdout",
     "output_type": "stream",
     "text": [
      "0.0109580750235\n",
      "0.10915866141928\n",
      "0.22218105892092\n",
      "0.33689181168543997\n"
     ]
    }
   ],
   "source": [
    "ch4_isotherm = pyiast.InterpolatorIsotherm(df_ch4,\n",
    "                                    loading_key=\"Loading (mmol/g)\",\n",
    "                                    pressure_key=\"Pressure (bar)\")\n",
    "ch4_isotherm = pyiast.InterpolatorIsotherm(df_ch4,\n",
    "                                    loading_key=\"Loading (mmol/g)\",\n",
    "                                    pressure_key=\"Pressure (bar)\",\n",
    "                                    fill_value=df_ch4['Loading (mmol/g)'].max())\n",
    "q_01_ch4= ch4_isotherm.loading(0.1)\n",
    "print(q_01_ch4)\n",
    "q_1_ch4=ch4_isotherm.loading(1)\n",
    "print(q_1_ch4)\n",
    "q_2_ch4=ch4_isotherm.loading(2)\n",
    "print(q_2_ch4)\n",
    "q_3_ch4=ch4_isotherm.loading(3)\n",
    "print(q_3_ch4)"
   ]
  },
  {
   "cell_type": "code",
   "execution_count": 17,
   "id": "70c54ec5-7937-4b29-babf-9669fbff7374",
   "metadata": {},
   "outputs": [],
   "source": [
    "co2_isotherm = pyiast.InterpolatorIsotherm(df_co2,\n",
    "                                    loading_key=\"loading (mmol/g)\",\n",
    "                                    pressure_key=\"pressure (bar)\")\n",
    "co2_isotherm = pyiast.InterpolatorIsotherm(df_co2,\n",
    "                                    loading_key=\"loading (mmol/g)\",\n",
    "                                    pressure_key=\"pressure (bar)\",\n",
    "                                    fill_value=df_co2['loading (mmol/g)'].max())"
   ]
  },
  {
   "cell_type": "code",
   "execution_count": 18,
   "id": "299a6a7d-4f68-423f-8631-6bbc5dec51ce",
   "metadata": {},
   "outputs": [
    {
     "name": "stdout",
     "output_type": "stream",
     "text": [
      "0.0432641036113\n",
      "0.45432990756691993\n",
      "0.96181053754412\n",
      "1.4392579248643\n"
     ]
    }
   ],
   "source": [
    "q_01_co2= co2_isotherm.loading(0.1)\n",
    "print(q_01_co2)\n",
    "q_1_co2=co2_isotherm.loading(1)\n",
    "print(q_1_co2)\n",
    "q_2_co2=co2_isotherm.loading(2)\n",
    "print(q_2_co2)\n",
    "q_3_co2=co2_isotherm.loading(3)\n",
    "print(q_3_co2)"
   ]
  },
  {
   "cell_type": "code",
   "execution_count": 19,
   "id": "701ab42b-d89f-4339-9d0a-5c3f8c965387",
   "metadata": {},
   "outputs": [
    {
     "name": "stdout",
     "output_type": "stream",
     "text": [
      "5.9222222222222225\n",
      "6.243158834027364\n",
      "6.493423936869794\n",
      "6.408249807247406\n"
     ]
    }
   ],
   "source": [
    "\n",
    "\n",
    "S_01=((q_01_co2)*0.6)/((q_01_ch4)*0.4)\n",
    "S_1=((q_1_co2)*0.6)/((q_1_ch4)*0.4)\n",
    "S_2=((q_2_co2)*0.6)/((q_2_ch4)*0.4)\n",
    "S_3=((q_3_co2)*0.6)/((q_3_ch4)*0.4)\n",
    "\n",
    "print(S_01)\n",
    "print(S_1)\n",
    "print(S_2)\n",
    "print(S_3)\n"
   ]
  },
  {
   "cell_type": "code",
   "execution_count": 20,
   "id": "1342976e-7f12-4f9c-88e3-3e5780d0baec",
   "metadata": {},
   "outputs": [
    {
     "ename": "SyntaxError",
     "evalue": "invalid syntax (2177260581.py, line 6)",
     "output_type": "error",
     "traceback": [
      "\u001b[1;36m  Cell \u001b[1;32mIn[20], line 6\u001b[1;36m\u001b[0m\n\u001b[1;33m    divise par 2 de chaque coté\u001b[0m\n\u001b[1;37m           ^\u001b[0m\n\u001b[1;31mSyntaxError\u001b[0m\u001b[1;31m:\u001b[0m invalid syntax\n"
     ]
    }
   ],
   "source": [
    "S_preuve1=((q_01_co2)*0.6)/((q_01_ch4)*0.4)\n",
    "S_preuve2=((q_01_co2)*0.3)/((q_01_ch4)*0.2)\n",
    "print(S_preuve1)\n",
    "print(S_preuve2)\n",
    "\n",
    "divise par 2 de chaque coté"
   ]
  },
  {
   "cell_type": "code",
   "execution_count": 32,
   "id": "f2989e47-5a37-4070-a1a9-0148b8a096f5",
   "metadata": {},
   "outputs": [
    {
     "name": "stdout",
     "output_type": "stream",
     "text": [
      "0.4506609817072\n",
      "1.986176802136\n",
      "6.610878962536112\n"
     ]
    }
   ],
   "source": [
    "q_4_ch4= ch4_isotherm.loading(4)\n",
    "print(q_4_ch4)\n",
    "q_4_co2= co2_isotherm.loading(4)\n",
    "print(q_4_co2)\n",
    "S_4=((q_4_co2)*0.6)/((q_4_ch4)*0.4)\n",
    "print(S_4)"
   ]
  },
  {
   "cell_type": "code",
   "execution_count": 22,
   "id": "74047d7f-87da-4919-bc77-abb3c5a3cec6",
   "metadata": {},
   "outputs": [
    {
     "name": "stdout",
     "output_type": "stream",
     "text": [
      "0.55270907000012\n",
      "2.6275353462274\n",
      "7.130881748222882\n"
     ]
    }
   ],
   "source": [
    "q_5_ch4= ch4_isotherm.loading(5)\n",
    "print(q_5_ch4)\n",
    "q_5_co2= co2_isotherm.loading(5)\n",
    "print(q_5_co2)\n",
    "S_5=((q_5_co2)*0.6)/((q_5_ch4)*0.4)\n",
    "print(S_5)"
   ]
  },
  {
   "cell_type": "markdown",
   "id": "b37861cb-2c16-40f8-999a-b11a8c51047c",
   "metadata": {},
   "source": [
    "Now we do the same calculations with the ones reported in the article to compare."
   ]
  },
  {
   "cell_type": "code",
   "execution_count": 23,
   "id": "c376ac0c-0661-4d04-a900-79b1481b905f",
   "metadata": {},
   "outputs": [
    {
     "data": {
      "text/html": [
       "<div>\n",
       "<style scoped>\n",
       "    .dataframe tbody tr th:only-of-type {\n",
       "        vertical-align: middle;\n",
       "    }\n",
       "\n",
       "    .dataframe tbody tr th {\n",
       "        vertical-align: top;\n",
       "    }\n",
       "\n",
       "    .dataframe thead th {\n",
       "        text-align: right;\n",
       "    }\n",
       "</style>\n",
       "<table border=\"1\" class=\"dataframe\">\n",
       "  <thead>\n",
       "    <tr style=\"text-align: right;\">\n",
       "      <th></th>\n",
       "      <th>Pressure(bar)</th>\n",
       "      <th>Loading(mmol/g)</th>\n",
       "      <th>Unnamed: 2</th>\n",
       "      <th>Unnamed: 3</th>\n",
       "    </tr>\n",
       "  </thead>\n",
       "  <tbody>\n",
       "    <tr>\n",
       "      <th>0</th>\n",
       "      <td>0.1</td>\n",
       "      <td>0.010812</td>\n",
       "      <td>NaN</td>\n",
       "      <td>NaN</td>\n",
       "    </tr>\n",
       "    <tr>\n",
       "      <th>1</th>\n",
       "      <td>0.5</td>\n",
       "      <td>0.059352</td>\n",
       "      <td>NaN</td>\n",
       "      <td>NaN</td>\n",
       "    </tr>\n",
       "    <tr>\n",
       "      <th>2</th>\n",
       "      <td>0.9</td>\n",
       "      <td>0.104386</td>\n",
       "      <td>NaN</td>\n",
       "      <td>NaN</td>\n",
       "    </tr>\n",
       "    <tr>\n",
       "      <th>3</th>\n",
       "      <td>1.3</td>\n",
       "      <td>0.148186</td>\n",
       "      <td>NaN</td>\n",
       "      <td>NaN</td>\n",
       "    </tr>\n",
       "    <tr>\n",
       "      <th>4</th>\n",
       "      <td>1.7</td>\n",
       "      <td>0.198804</td>\n",
       "      <td>NaN</td>\n",
       "      <td>NaN</td>\n",
       "    </tr>\n",
       "  </tbody>\n",
       "</table>\n",
       "</div>"
      ],
      "text/plain": [
       "   Pressure(bar)  Loading(mmol/g)  Unnamed: 2  Unnamed: 3\n",
       "0            0.1         0.010812         NaN         NaN\n",
       "1            0.5         0.059352         NaN         NaN\n",
       "2            0.9         0.104386         NaN         NaN\n",
       "3            1.3         0.148186         NaN         NaN\n",
       "4            1.7         0.198804         NaN         NaN"
      ]
     },
     "execution_count": 23,
     "metadata": {},
     "output_type": "execute_result"
    }
   ],
   "source": [
    "# Charger les données d'adsorption pour le méthane\n",
    "dfcompare_co2 = pd.read_csv(\"CO2_IRMOF1.csv\")\n",
    "dfcompare_ch4 = pd.read_csv(\"CH4_IRMOF1.csv\")\n",
    "dfcompare_ch4.head()"
   ]
  },
  {
   "cell_type": "code",
   "execution_count": 24,
   "id": "2dda47e7-6c57-45b1-868b-e4ab48368b66",
   "metadata": {},
   "outputs": [
    {
     "data": {
      "text/html": [
       "<div>\n",
       "<style scoped>\n",
       "    .dataframe tbody tr th:only-of-type {\n",
       "        vertical-align: middle;\n",
       "    }\n",
       "\n",
       "    .dataframe tbody tr th {\n",
       "        vertical-align: top;\n",
       "    }\n",
       "\n",
       "    .dataframe thead th {\n",
       "        text-align: right;\n",
       "    }\n",
       "</style>\n",
       "<table border=\"1\" class=\"dataframe\">\n",
       "  <thead>\n",
       "    <tr style=\"text-align: right;\">\n",
       "      <th></th>\n",
       "      <th>Pressure(bar)</th>\n",
       "      <th>Loading(mmol/g)</th>\n",
       "      <th>Unnamed: 2</th>\n",
       "      <th>Unnamed: 3</th>\n",
       "    </tr>\n",
       "  </thead>\n",
       "  <tbody>\n",
       "    <tr>\n",
       "      <th>0</th>\n",
       "      <td>0.1</td>\n",
       "      <td>0.053378</td>\n",
       "      <td>NaN</td>\n",
       "      <td>NaN</td>\n",
       "    </tr>\n",
       "    <tr>\n",
       "      <th>1</th>\n",
       "      <td>0.5</td>\n",
       "      <td>0.273871</td>\n",
       "      <td>NaN</td>\n",
       "      <td>NaN</td>\n",
       "    </tr>\n",
       "    <tr>\n",
       "      <th>2</th>\n",
       "      <td>0.9</td>\n",
       "      <td>0.505175</td>\n",
       "      <td>NaN</td>\n",
       "      <td>NaN</td>\n",
       "    </tr>\n",
       "    <tr>\n",
       "      <th>3</th>\n",
       "      <td>1.3</td>\n",
       "      <td>0.751415</td>\n",
       "      <td>NaN</td>\n",
       "      <td>NaN</td>\n",
       "    </tr>\n",
       "    <tr>\n",
       "      <th>4</th>\n",
       "      <td>1.7</td>\n",
       "      <td>1.009247</td>\n",
       "      <td>NaN</td>\n",
       "      <td>NaN</td>\n",
       "    </tr>\n",
       "  </tbody>\n",
       "</table>\n",
       "</div>"
      ],
      "text/plain": [
       "   Pressure(bar)  Loading(mmol/g)  Unnamed: 2  Unnamed: 3\n",
       "0            0.1         0.053378         NaN         NaN\n",
       "1            0.5         0.273871         NaN         NaN\n",
       "2            0.9         0.505175         NaN         NaN\n",
       "3            1.3         0.751415         NaN         NaN\n",
       "4            1.7         1.009247         NaN         NaN"
      ]
     },
     "execution_count": 24,
     "metadata": {},
     "output_type": "execute_result"
    }
   ],
   "source": [
    "dfcompare_co2.head()"
   ]
  },
  {
   "cell_type": "code",
   "execution_count": 27,
   "id": "10575644-3207-42e7-80ec-8ba1f6bd0151",
   "metadata": {},
   "outputs": [
    {
     "name": "stdout",
     "output_type": "stream",
     "text": [
      "0.010811967\n",
      "0.11533576899999999\n",
      "0.2391538995\n",
      "0.34957071075\n"
     ]
    }
   ],
   "source": [
    "ch4_isothermcompare = pyiast.InterpolatorIsotherm(dfcompare_ch4,\n",
    "                                    loading_key=\"Loading(mmol/g)\",\n",
    "                                    pressure_key=\"Pressure(bar)\")\n",
    "ch4_isothermcompare = pyiast.InterpolatorIsotherm(dfcompare_ch4,\n",
    "                                    loading_key=\"Loading(mmol/g)\",\n",
    "                                    pressure_key=\"Pressure(bar)\",\n",
    "                                    fill_value=dfcompare_ch4['Loading(mmol/g)'].max())\n",
    "q_01_ch4compare= ch4_isothermcompare.loading(0.1)\n",
    "print(q_01_ch4compare)\n",
    "q_1_ch4compare=ch4_isothermcompare.loading(1)\n",
    "print(q_1_ch4compare)\n",
    "q_2_ch4compare=ch4_isothermcompare.loading(2)\n",
    "print(q_2_ch4compare)\n",
    "q_3_ch4compare=ch4_isothermcompare.loading(3)\n",
    "print(q_3_ch4compare)"
   ]
  },
  {
   "cell_type": "code",
   "execution_count": 28,
   "id": "ed49a0eb-239d-4ebf-a2df-aaea7c943584",
   "metadata": {},
   "outputs": [],
   "source": [
    "co2_isothermcompare = pyiast.InterpolatorIsotherm(dfcompare_co2,\n",
    "                                    loading_key=\"Loading(mmol/g)\",\n",
    "                                    pressure_key=\"Pressure(bar)\")\n",
    "co2_isothermcompare = pyiast.InterpolatorIsotherm(dfcompare_co2,\n",
    "                                    loading_key=\"Loading(mmol/g)\",\n",
    "                                    pressure_key=\"Pressure(bar)\",\n",
    "                                    fill_value=dfcompare_co2['Loading(mmol/g)'].max())"
   ]
  },
  {
   "cell_type": "code",
   "execution_count": 29,
   "id": "cd972030-e624-4215-b64d-955e0b6b7d04",
   "metadata": {},
   "outputs": [
    {
     "name": "stdout",
     "output_type": "stream",
     "text": [
      "0.053378001\n",
      "0.56673540625\n",
      "1.16419400775\n",
      "1.8799430000000001\n"
     ]
    }
   ],
   "source": [
    "q_01_co2compare= co2_isothermcompare.loading(0.1)\n",
    "print(q_01_co2compare)\n",
    "q_1_co2compare=co2_isothermcompare.loading(1)\n",
    "print(q_1_co2compare)\n",
    "q_2_co2compare=co2_isothermcompare.loading(2)\n",
    "print(q_2_co2compare)\n",
    "q_3_co2compare=co2_isothermcompare.loading(3)\n",
    "print(q_3_co2compare)"
   ]
  },
  {
   "cell_type": "code",
   "execution_count": 30,
   "id": "43ebc4ca-6296-4e49-b1fb-85d83ad35e8b",
   "metadata": {},
   "outputs": [
    {
     "name": "stdout",
     "output_type": "stream",
     "text": [
      "7.4054056491293405\n",
      "7.3706805507578474\n",
      "7.301954997497333\n",
      "8.06679282125755\n"
     ]
    }
   ],
   "source": [
    "S_01compare=((q_01_co2compare)*0.6)/((q_01_ch4compare)*0.4)\n",
    "S_1compare=((q_1_co2compare)*0.6)/((q_1_ch4compare)*0.4)\n",
    "S_2compare=((q_2_co2compare)*0.6)/((q_2_ch4compare)*0.4)\n",
    "S_3compare=((q_3_co2compare)*0.6)/((q_3_ch4compare)*0.4)\n",
    "\n",
    "print(S_01compare)\n",
    "print(S_1compare)\n",
    "print(S_2compare)\n",
    "print(S_3compare)"
   ]
  },
  {
   "cell_type": "code",
   "execution_count": 34,
   "id": "16c7eeaa-baea-4f20-b863-6e9f3be57f15",
   "metadata": {},
   "outputs": [
    {
     "name": "stdout",
     "output_type": "stream",
     "text": [
      "0.4506609817072\n",
      "2.5013713755\n",
      "7.99020759848785\n"
     ]
    }
   ],
   "source": [
    "q_4_ch4compare= ch4_isothermcompare.loading(4)\n",
    "print(q_4_ch4)\n",
    "q_4_co2compare= co2_isothermcompare.loading(4)\n",
    "print(q_4_co2compare)\n",
    "S_4compare=((q_4_co2compare)*0.6)/((q_4_ch4compare)*0.4)\n",
    "print(S_4compare)"
   ]
  },
  {
   "cell_type": "code",
   "execution_count": 35,
   "id": "ea1e7bc9-0e48-4c2c-b40f-ebbeb2349c60",
   "metadata": {},
   "outputs": [
    {
     "name": "stdout",
     "output_type": "stream",
     "text": [
      "0.55270907000012\n",
      "3.2293852947499997\n",
      "8.187898742583627\n"
     ]
    }
   ],
   "source": [
    "q_5_ch4compare= ch4_isothermcompare.loading(5)\n",
    "print(q_5_ch4)\n",
    "q_5_co2compare= co2_isothermcompare.loading(5)\n",
    "print(q_5_co2compare)\n",
    "S_5compare=((q_5_co2compare)*0.6)/((q_5_ch4compare)*0.4)\n",
    "print(S_5compare)"
   ]
  },
  {
   "cell_type": "code",
   "execution_count": null,
   "id": "f30de2cf-72b0-440e-a9d3-69277ca4af5f",
   "metadata": {},
   "outputs": [],
   "source": []
  }
 ],
 "metadata": {
  "kernelspec": {
   "display_name": "Python 3 (ipykernel)",
   "language": "python",
   "name": "python3"
  },
  "language_info": {
   "codemirror_mode": {
    "name": "ipython",
    "version": 3
   },
   "file_extension": ".py",
   "mimetype": "text/x-python",
   "name": "python",
   "nbconvert_exporter": "python",
   "pygments_lexer": "ipython3",
   "version": "3.10.14"
  }
 },
 "nbformat": 4,
 "nbformat_minor": 5
}
