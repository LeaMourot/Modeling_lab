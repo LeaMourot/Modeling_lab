{
 "cells": [
  {
   "cell_type": "markdown",
   "id": "06899d77-2904-4caa-9059-4941563f9021",
   "metadata": {},
   "source": [
    "**determination of the working capacity**"
   ]
  },
  {
   "cell_type": "code",
   "execution_count": 7,
   "id": "6adcf55a-c003-4fcf-93b8-dae60c2c27d2",
   "metadata": {},
   "outputs": [],
   "source": [
    "import pyiast\n",
    "import pandas as pd\n",
    "import numpy as np\n",
    "import matplotlib.pyplot as plt"
   ]
  },
  {
   "cell_type": "markdown",
   "id": "6ae782af-3199-4e0b-a54f-21fb7f205448",
   "metadata": {},
   "source": [
    "**Aida lab importation**"
   ]
  },
  {
   "cell_type": "code",
   "execution_count": 8,
   "id": "cc3b8501-c736-4781-a3e9-1a290c8754e5",
   "metadata": {},
   "outputs": [],
   "source": [
    "#entre liste des pression et liste des loading_absolute_average, les transfo en csv file puis les importe sur ce doc\n",
    "def conv_to_csv(pressure,loading_absolute_average,mof_gas):\n",
    "    df = pd.DataFrame({\n",
    "        'Pressure (bar)': pressure,\n",
    "        'Loading (mmol/g)': loading_absolute_average\n",
    "    })\n",
    "\n",
    "    # Save data into a csv file\n",
    "    df.to_csv('isotherm_data_{mof_gas}.csv', index=False)\n",
    "#    return\n",
    "\n",
    "    #import data from the csv file\n",
    "#def import_data(mof_gas):\n",
    "    df_mof = pd.read_csv(\"isotherm_data_{mof_gas}.csv\")\n",
    "    return df_mof"
   ]
  },
  {
   "cell_type": "markdown",
   "id": "5f80e2db-413a-4c67-9ed0-d7b33435b12b",
   "metadata": {},
   "source": [
    "**Loading q values in pure conditions**"
   ]
  },
  {
   "cell_type": "code",
   "execution_count": 9,
   "id": "db8ceb57-e629-485e-b853-6ede4494c786",
   "metadata": {},
   "outputs": [],
   "source": [
    "def get_pure_q(df_mof):\n",
    "    pure_isotherm = pyiast.InterpolatorIsotherm(df_mof,\n",
    "                                        loading_key=\"Loading (mmol/g)\",\n",
    "                                        pressure_key=\"Pressure (bar)\")\n",
    "    pure_isotherm = pyiast.InterpolatorIsotherm(df_mof,\n",
    "                                        loading_key=\"Loading (mmol/g)\",\n",
    "                                        pressure_key=\"Pressure (bar)\",\n",
    "                                        fill_value=df_mof['Loading (mmol/g)'].max())\n",
    "    return pure_isotherm"
   ]
  },
  {
   "cell_type": "markdown",
   "id": "3645657b-fa6c-401a-9eec-b577d3014b8a",
   "metadata": {},
   "source": [
    "**Loading q values in binary mixture**"
   ]
  },
  {
   "cell_type": "code",
   "execution_count": 10,
   "id": "1d20f36b-ddb5-4249-94a8-bd6bcd078d8a",
   "metadata": {},
   "outputs": [],
   "source": [
    "def get_mixt_q(N2_isotherm, CO2_isotherm, pressure):\n",
    "    p_part = pressure*np.array([0.85,0.15])\n",
    "    q_mix = pyiast.iast(p_part, [N2_isotherm, CO2_isotherm], verboseflag=False)\n",
    "    return q_mix"
   ]
  },
  {
   "cell_type": "markdown",
   "id": "e0539058-fbcd-439b-b62f-b84bbf115e51",
   "metadata": {},
   "source": [
    "**selectivity and q_mix calculation**"
   ]
  },
  {
   "cell_type": "code",
   "execution_count": 11,
   "id": "57dad1b3-e45f-4bbf-844e-9ac6c29053e3",
   "metadata": {},
   "outputs": [],
   "source": [
    "def get_selectivity(mof,pressures,loading_absolute_average, S_pressure):\n",
    "    name_N2 = f\"{mof}_N2\"\n",
    "    name_CO2 = f\"{mof}_CO2\"\n",
    "    \n",
    "    df_N2 = conv_to_csv(pressures, loading_absolute_average, name_N2)\n",
    "    N2_isotherm = get_pure_q(df_N2)\n",
    "\n",
    "    df_CO2 = conv_to_csv(pressures, loading_absolute_average, name_CO2)\n",
    "    CO2_isotherm = get_pure_q(df_CO2)\n",
    "    \n",
    "    q_mix = get_mixt_q(N2_isotherm, CO2_isotherm, S_pressure)\n",
    "    Selectivity_mof = (0.85/0.15)*(q_mix[1]/q_mix[0])\n",
    "    return Selectivity_mof , q_mix"
   ]
  },
  {
   "cell_type": "code",
   "execution_count": 18,
   "id": "40d12a14-b609-4507-a55c-b5d8bf22d220",
   "metadata": {},
   "outputs": [
    {
     "name": "stdout",
     "output_type": "stream",
     "text": [
      "1.0000000000000002\n",
      "[1.08227997 0.19099058]\n"
     ]
    }
   ],
   "source": [
    "#entrer vakeurs de Aiida lab\n",
    "P_list = [0.2, 0.8, 1.4, 2.0, 2.6, 3.2, 3.8, 4.4, 5.0, 5.6, 6.2, 6.8, 7.4, 8.0, 8.6, 9.2, 9.8, 10.2]\n",
    "q_mean=[0.23575968759626, 0.98475549405786, 1.8503006720399, 2.7077428446667, 3.6901292397011, 4.821734538441, 5.8649964779462, 6.635211171313, 7.4943700823624, 8.2962757670132, 8.5992285964759, 9.203984040658, 9.7064218748443, 10.027881144504, 10.348482044953, 10.553271771403, 10.764379095248, 10.953048647908]\n",
    "\n",
    "#donner nom du mof\n",
    "mof = \"Mg_74_CO2\"\n",
    "\n",
    "S_pressure = 1\n",
    "S , q_mix = get_selectivity(mof,P_list,q_mean, S_pressure)\n",
    "\n",
    "print(S)\n",
    "print(q_mix) #q de N2 puis q de CO2"
   ]
  },
  {
   "cell_type": "markdown",
   "id": "eced67f9-2f14-41fa-8ac0-ca49a327581b",
   "metadata": {},
   "source": [
    "*at 0.2 bar, q is deorbsed*"
   ]
  },
  {
   "cell_type": "markdown",
   "id": "e68f9ad0-dab4-43e7-a9d8-4823a642cadb",
   "metadata": {},
   "source": [
    "*at 1 bar, q adsorption*"
   ]
  },
  {
   "cell_type": "code",
   "execution_count": 19,
   "id": "4552ff93-6108-4446-87b6-b765f85536cd",
   "metadata": {},
   "outputs": [
    {
     "name": "stdout",
     "output_type": "stream",
     "text": [
      "1.0000000000000002\n",
      "[0.20039573 0.03536395]\n"
     ]
    }
   ],
   "source": [
    "S_pressure = 0.2\n",
    "S , q_mix = get_selectivity(mof,P_list,q_mean, S_pressure)\n",
    "\n",
    "print(S)\n",
    "print(q_mix) #q de N2 puis q de CO2"
   ]
  },
  {
   "cell_type": "code",
   "execution_count": 20,
   "id": "7325bd51-ec57-4a68-a781-92e0c7136a3c",
   "metadata": {},
   "outputs": [
    {
     "name": "stdout",
     "output_type": "stream",
     "text": [
      "1.0000000000000002\n",
      "[6.49250558 1.14573628]\n"
     ]
    }
   ],
   "source": [
    "#entrer vakeurs de Aiida lab\n",
    "P_list = [0.2, 0.3266840603101, 0.48686234189789, 0.69500812430223, 0.97485889138887, 1.3678130038057, 1.951904804549, 2.551904804549, 3.151904804549, 3.751904804549, 4.351904804549, 4.951904804549, 5.551904804549, 6.151904804549, 6.751904804549, 7.351904804549, 7.951904804549, 8.551904804549, 9.151904804549, 9.751904804549, 10.2]\n",
    "q_mean=[2.732727414792, 4.369949526912, 5.7705666370224, 6.8743309833244, 7.598813085141, 8.2150826016624, 8.6262039121069, 8.846552379985, 9.0288549244554, 9.1648323824958, 9.2861528044446, 9.3393688103836, 9.4082578858388, 9.4298963790073, 9.4631941067159, 9.5820096542812, 9.5691030123974, 9.6485346916435, 9.603024443808, 9.6529810951878, 9.7229767415754]\n",
    "#donner nom du mof\n",
    "mof = \"NOTT300_CO2\"\n",
    "\n",
    "S_pressure = 1\n",
    "S , q_mix = get_selectivity(mof,P_list,q_mean, S_pressure)\n",
    "\n",
    "print(S)\n",
    "print(q_mix) #q de N2 puis q de CO2"
   ]
  },
  {
   "cell_type": "code",
   "execution_count": 21,
   "id": "782904cd-cc6d-44a4-b41f-92eaceaa23e6",
   "metadata": {},
   "outputs": [
    {
     "name": "stdout",
     "output_type": "stream",
     "text": [
      "1.0000000000000002\n",
      "[2.3228183  0.40990911]\n"
     ]
    }
   ],
   "source": [
    "S_pressure = 0.2\n",
    "S , q_mix = get_selectivity(mof,P_list,q_mean, S_pressure)\n",
    "\n",
    "print(S)\n",
    "print(q_mix) #q de N2 puis q de CO2"
   ]
  },
  {
   "cell_type": "code",
   "execution_count": 22,
   "id": "8e962847-43a7-4b00-99f5-f07df1392b81",
   "metadata": {},
   "outputs": [
    {
     "name": "stdout",
     "output_type": "stream",
     "text": [
      "1.0000000000000002\n",
      "[2.42598598 0.42811517]\n"
     ]
    }
   ],
   "source": [
    "#entrer vakeurs de Aiida lab\n",
    "P_list = [0.2, 0.66381721559481, 1.2298724660926, 1.8298724660926, 2.4298724660926, 3.0298724660926, 3.6298724660926, 4.2298724660926, 4.8298724660926, 5.4298724660926, 6.0298724660926, 6.6298724660926, 7.2298724660926, 7.8298724660926, 8.4298724660926, 9.0298724660926, 9.6298724660926, 10.2]\n",
    "q_mean=[0.63946236515945, 1.9724895914484, 3.4569226858202, 4.4732069487837, 5.3521324574436, 6.0205913102688, 6.579024095708, 7.0017784828232, 7.3607290084119, 7.669732401093, 8.0171687632951, 8.3256175557268, 8.492933001113, 8.7782044696897, 9.0469538174041, 9.2581902914954, 9.4641622020254, 9.7410898340143]\n",
    "mof=\"UTSA-20_CO2\"\n",
    "S_pressure = 1\n",
    "S , q_mix = get_selectivity(mof,P_list,q_mean, S_pressure)\n",
    "\n",
    "print(S)\n",
    "print(q_mix) #q de N2 puis q de CO2"
   ]
  },
  {
   "cell_type": "code",
   "execution_count": 23,
   "id": "ec810db4-dd72-4dad-96b6-08664e55edfd",
   "metadata": {},
   "outputs": [
    {
     "name": "stdout",
     "output_type": "stream",
     "text": [
      "1.0000000000000002\n",
      "[0.54354301 0.09591935]\n"
     ]
    }
   ],
   "source": [
    "S_pressure = 0.2\n",
    "S , q_mix = get_selectivity(mof,P_list,q_mean, S_pressure)\n",
    "\n",
    "print(S)\n",
    "print(q_mix) #q de N2 puis q de CO2"
   ]
  },
  {
   "cell_type": "code",
   "execution_count": 24,
   "id": "5e8009cc-93b6-4cf1-86fe-d083df4ec259",
   "metadata": {},
   "outputs": [
    {
     "name": "stdout",
     "output_type": "stream",
     "text": [
      "1.0000000000000002\n",
      "[1.23388149 0.21774379]\n"
     ]
    }
   ],
   "source": [
    "#entrer vakeurs de Aiida lab\n",
    "P_list = [0.2, 0.8, 1.4, 2.0, 2.6, 3.2, 3.8, 4.4, 5.0, 5.6, 6.2, 6.8, 7.4, 8.0, 8.6, 9.2, 9.8, 10.2]\n",
    "q_mean=[0.31424485381695, 1.1580909367748, 2.038693985348, 2.9664843410745, 3.8041249233618, 4.7398294176147, 5.6300892453135, 6.571769721719, 7.5454467796638, 8.1926294954818, 9.0655394233608, 9.9333829424732, 10.499469115282, 11.176310724031, 11.800907117546, 12.322322186213, 12.73597406036, 13.056237399758]\n",
    "mof=\"UTSA-80-CO2\"\n",
    "S_pressure = 1\n",
    "S , q_mix = get_selectivity(mof,P_list,q_mean, S_pressure)\n",
    "\n",
    "print(S)\n",
    "print(q_mix) #q de N2 puis q de CO2"
   ]
  },
  {
   "cell_type": "code",
   "execution_count": 25,
   "id": "33dd9d85-6bd6-4665-b078-40f1c127d626",
   "metadata": {},
   "outputs": [
    {
     "name": "stdout",
     "output_type": "stream",
     "text": [
      "1.0000000000000002\n",
      "[0.26710813 0.04713673]\n"
     ]
    }
   ],
   "source": [
    "S_pressure = 0.2\n",
    "S , q_mix = get_selectivity(mof,P_list,q_mean, S_pressure)\n",
    "\n",
    "print(S)\n",
    "print(q_mix) #q de N2 puis q de CO2"
   ]
  },
  {
   "cell_type": "code",
   "execution_count": 26,
   "id": "4e639ce0-57b3-4de3-a7de-08a78389d636",
   "metadata": {},
   "outputs": [
    {
     "name": "stdout",
     "output_type": "stream",
     "text": [
      "1.0000000000000002\n",
      "[0.75416786 0.13308845]\n"
     ]
    }
   ],
   "source": [
    "#entrer vakeurs de Aiida lab\n",
    "P_list = [0.2, 0.8, 1.4, 2.0, 2.6, 3.2, 3.8, 4.4, 5.0, 5.6, 6.2, 6.8, 7.4, 8.0, 8.6, 9.2, 9.8, 10.2]\n",
    "q_mean=[0.16863404693292, 0.7170356655534, 1.227697601413, 1.8236514033812, 2.4540954126362, 2.9938836328871, 3.5469992793082, 4.0608374630256, 4.4329985160679, 4.8204000667568, 5.1898333910912, 5.4522903214342, 5.7803317356437, 5.993213569738, 6.221143678986, 6.3982355156039, 6.5196102896543, 6.6732784425018]\n",
    "mof=\"Zif_CO2\"\n",
    "S_pressure = 1\n",
    "S , q_mix = get_selectivity(mof,P_list,q_mean, S_pressure)\n",
    "\n",
    "print(S)\n",
    "print(q_mix) #q de N2 puis q de CO2"
   ]
  },
  {
   "cell_type": "code",
   "execution_count": 27,
   "id": "38601f25-6c91-4441-8b05-7bf29d2d021c",
   "metadata": {},
   "outputs": [
    {
     "name": "stdout",
     "output_type": "stream",
     "text": [
      "1.0000000000000002\n",
      "[0.14333894 0.02529511]\n"
     ]
    }
   ],
   "source": [
    "S_pressure = 0.2\n",
    "S , q_mix = get_selectivity(mof,P_list,q_mean, S_pressure)\n",
    "\n",
    "print(S)\n",
    "print(q_mix) #q de N2 puis q de CO2"
   ]
  },
  {
   "cell_type": "code",
   "execution_count": null,
   "id": "ad2f9941-4725-496a-a421-a09b9d15ec18",
   "metadata": {},
   "outputs": [],
   "source": []
  }
 ],
 "metadata": {
  "kernelspec": {
   "display_name": "Python 3 (ipykernel)",
   "language": "python",
   "name": "python3"
  },
  "language_info": {
   "codemirror_mode": {
    "name": "ipython",
    "version": 3
   },
   "file_extension": ".py",
   "mimetype": "text/x-python",
   "name": "python",
   "nbconvert_exporter": "python",
   "pygments_lexer": "ipython3",
   "version": "3.10.14"
  }
 },
 "nbformat": 4,
 "nbformat_minor": 5
}
