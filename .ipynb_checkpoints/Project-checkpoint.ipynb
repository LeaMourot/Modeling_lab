{
 "cells": [
  {
   "cell_type": "code",
   "execution_count": 1,
   "id": "52e41d44-24d1-4b97-8a29-7917029d0ee0",
   "metadata": {},
   "outputs": [],
   "source": [
    "import pyiast\n",
    "import pandas as pd\n",
    "import numpy as np\n",
    "import matplotlib.pyplot as plt"
   ]
  },
  {
   "cell_type": "markdown",
   "id": "c4b04180-0b1c-45e4-9343-95c13304e429",
   "metadata": {},
   "source": [
    "#### Aiida Lab data importation"
   ]
  },
  {
   "cell_type": "code",
   "execution_count": 11,
   "id": "6d5f7529-e4da-464e-85fc-45103ecb4e7c",
   "metadata": {},
   "outputs": [],
   "source": [
    "#entre liste des pression et liste des loading_absolute_average, les transfo en csv file puis les importe sur ce doc\n",
    "def conv_to_csv(pressure,loading_absolute_average,mof_gas):\n",
    "    df = pd.DataFrame({\n",
    "        'Pressure (bar)': pressure,\n",
    "        'Loading (mmol/g)': loading_absolute_average\n",
    "    })\n",
    "\n",
    "    # Save data into a csv file\n",
    "    file_name = f'isotherm_data_{mof_gas}.csv'\n",
    "    df.to_csv(file_name, index=False)\n",
    "    return\n",
    "\n",
    "    #import data from the csv file\n",
    "def import_data(mof_gas):\n",
    "    file_name = f'isotherm_data_{mof_gas}.csv'\n",
    "    df_mof = pd.read_csv(file_name)\n",
    "    return df_mof"
   ]
  },
  {
   "cell_type": "markdown",
   "id": "107c104f-b5ad-4f26-b8a7-6efc96af1048",
   "metadata": {},
   "source": [
    "#### Loading q values in pure conditions"
   ]
  },
  {
   "cell_type": "code",
   "execution_count": 3,
   "id": "a9db3882-6eb7-4eff-92c8-e8303f23c171",
   "metadata": {},
   "outputs": [],
   "source": [
    "def get_pure_q(df_mof):\n",
    "    pure_isotherm = pyiast.InterpolatorIsotherm(df_mof,\n",
    "                                        loading_key=\"Loading (mmol/g)\",\n",
    "                                        pressure_key=\"Pressure (bar)\")\n",
    "    pure_isotherm = pyiast.InterpolatorIsotherm(df_mof,\n",
    "                                        loading_key=\"Loading (mmol/g)\",\n",
    "                                        pressure_key=\"Pressure (bar)\",\n",
    "                                        fill_value=df_mof['Loading (mmol/g)'].max())\n",
    "    return pure_isotherm"
   ]
  },
  {
   "cell_type": "markdown",
   "id": "cb781329-f645-41cf-a2a1-6c814d9c30cb",
   "metadata": {},
   "source": [
    "#### Loading q values in binary mixture"
   ]
  },
  {
   "cell_type": "code",
   "execution_count": 4,
   "id": "e07c513f-ba5c-4056-ba0c-140d7d06a02a",
   "metadata": {},
   "outputs": [],
   "source": [
    "def get_mixt_q(N2_isotherm, CO2_isotherm, pressure):\n",
    "    p_part = pressure*np.array([0.85,0.15])\n",
    "    q_mix = pyiast.iast(p_part, [N2_isotherm, CO2_isotherm], verboseflag=False)\n",
    "    return q_mix"
   ]
  },
  {
   "cell_type": "markdown",
   "id": "9b0a562e-dc8d-4887-a601-b3b0bbf3820a",
   "metadata": {},
   "source": [
    "#### selectivity and q_mix calculation"
   ]
  },
  {
   "cell_type": "code",
   "execution_count": 14,
   "id": "21441cbb-385c-402d-a8c1-4720afb6fe5f",
   "metadata": {},
   "outputs": [],
   "source": [
    "def get_selectivity(mof_N2,mof_CO2, S_pressure):\n",
    "    name_N2 = f\"{mof_N2}\"\n",
    "    name_CO2 = f\"{mof_CO2}\"\n",
    "\n",
    "    df_N2 = import_data(name_N2)\n",
    "    df_CO2 = import_data(name_CO2)\n",
    "    \n",
    "    N2_isotherm = get_pure_q(df_N2)\n",
    "    CO2_isotherm = get_pure_q(df_CO2)\n",
    "    \n",
    "    q_mix = get_mixt_q(N2_isotherm, CO2_isotherm, S_pressure)\n",
    "    Selectivity_mof = (0.85/0.15)*(q_mix[1]/q_mix[0])\n",
    "    return Selectivity_mof , q_mix"
   ]
  },
  {
   "cell_type": "code",
   "execution_count": 22,
   "id": "e66140e0-dd73-4e64-baa8-efa7ea9cc77d",
   "metadata": {},
   "outputs": [
    {
     "name": "stdout",
     "output_type": "stream",
     "text": [
      "14.531504153242693\n",
      "[0.15820241 0.40569159]\n"
     ]
    }
   ],
   "source": [
    "\n",
    "#entrer vakeurs de Aiida lab\n",
    "P_list_CO2 =  [0.2, 0.3266840603101, 0.48686234189789, 0.69500812430223, 0.97485889138887, 1.3678130038057, 1.951904804549, 2.551904804549, 3.151904804549, 3.751904804549, 4.351904804549, 4.951904804549, 5.551904804549, 6.151904804549, 6.751904804549, 7.351904804549, 7.951904804549, 8.551904804549, 9.151904804549, 9.751904804549, 10.2]\n",
    "q_mean_CO2=[2.732727414792, 4.369949526912, 5.7705666370224, 6.8743309833244, 7.598813085141, 8.2150826016624, 8.6262039121069, 8.846552379985, 9.0288549244554, 9.1648323824958, 9.2861528044446, 9.3393688103836, 9.4082578858388, 9.4298963790073, 9.4631941067159, 9.5820096542812, 9.5691030123974, 9.6485346916435, 9.603024443808, 9.6529810951878, 9.7229767415754]\n",
    "P_list_N2 = [0.2, 0.8, 1.4, 2.0, 2.6, 3.2, 3.8, 4.4, 5.0, 5.6, 6.2, 6.8, 7.4, 8.0, 8.6, 9.2, 9.8, 10.2]\n",
    "q_mean_N2 = [0.19363986752364, 0.719462293293, 1.1852683313032, 1.5837143737829, 1.964938147429, 2.3003800603546, 2.6374516505899, 2.9101006884275, 3.1565843516202, 3.4335188371982, 3.664822358103, 3.8379403631471, 4.031771365684, 4.2347466686208, 4.4040319141264, 4.5423130517804, 4.6845174866617, 4.786422617184]\n",
    "\n",
    "\n",
    "#donner nom du mof\n",
    "mof_CO2 = \"NOTT_300_CO2\"\n",
    "mof_N2 = \"NOTT_300_N2\"\n",
    "\n",
    "#telecharger le csv\n",
    "fichier_CO2 = conv_to_csv(P_list_CO2,q_mean_CO2,mof_CO2)\n",
    "fichier_N2 = conv_to_csv(P_list_N2,q_mean_N2,mof_N2)\n",
    "\n",
    "#donner pression voulue pour le calculs des q en melange \n",
    "S_pressure = 0.2\n",
    "S , q_mix = get_selectivity(mof_N2,mof_CO2, S_pressure)\n",
    "\n",
    "print(S)\n",
    "print(q_mix) #q de N2 puis q de CO2"
   ]
  },
  {
   "cell_type": "code",
   "execution_count": null,
   "id": "8605a277-b26b-464f-936f-b17548444980",
   "metadata": {},
   "outputs": [],
   "source": []
  }
 ],
 "metadata": {
  "kernelspec": {
   "display_name": "Python 3 (ipykernel)",
   "language": "python",
   "name": "python3"
  },
  "language_info": {
   "codemirror_mode": {
    "name": "ipython",
    "version": 3
   },
   "file_extension": ".py",
   "mimetype": "text/x-python",
   "name": "python",
   "nbconvert_exporter": "python",
   "pygments_lexer": "ipython3",
   "version": "3.10.14"
  }
 },
 "nbformat": 4,
 "nbformat_minor": 5
}
