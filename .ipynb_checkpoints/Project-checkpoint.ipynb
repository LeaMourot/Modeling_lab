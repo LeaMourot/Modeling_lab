{
 "cells": [
  {
   "cell_type": "markdown",
   "id": "8ffa9761-6aa7-4556-815c-8d505ee4a035",
   "metadata": {},
   "source": [
    "listes de q pure"
   ]
  },
  {
   "cell_type": "markdown",
   "id": "c4b04180-0b1c-45e4-9343-95c13304e429",
   "metadata": {},
   "source": [
    "#### Aiida Lab data importation"
   ]
  },
  {
   "cell_type": "code",
   "execution_count": 3,
   "id": "6d5f7529-e4da-464e-85fc-45103ecb4e7c",
   "metadata": {},
   "outputs": [],
   "source": [
    "#entre liste des pression et liste des loading_absolute_average, les transfo en csv file puis les importe sur ce doc\n",
    "def conv_to_csv(pressure,loading_absolute_average,mof_gas):\n",
    "    df = pd.DataFrame({\n",
    "        'Pressure (bar)': pressure,\n",
    "        'Loading (mmol/g)': loading_absolute_average\n",
    "    })\n",
    "\n",
    "    # Save data into a csv file\n",
    "    df.to_csv('isotherm_data_{mof_gas}.csv', index=False)\n",
    "#    return\n",
    "\n",
    "    #import data from the csv file\n",
    "#def import_data(mof_gas):\n",
    "    df_mof = pd.read_csv(\"isotherm_data_{mof_gas}.csv\")\n",
    "    return df_mof"
   ]
  },
  {
   "cell_type": "markdown",
   "id": "107c104f-b5ad-4f26-b8a7-6efc96af1048",
   "metadata": {},
   "source": [
    "#### Loading q values in pure conditions"
   ]
  },
  {
   "cell_type": "code",
   "execution_count": 1,
   "id": "a9db3882-6eb7-4eff-92c8-e8303f23c171",
   "metadata": {},
   "outputs": [],
   "source": [
    "def get_pure_q(df_mof):\n",
    "    pure_isotherm = pyiast.InterpolatorIsotherm(df_mof,\n",
    "                                        loading_key=\"Loading (mmol/g)\",\n",
    "                                        pressure_key=\"Pressure (bar)\")\n",
    "    pure_isotherm = pyiast.InterpolatorIsotherm(df_mof,\n",
    "                                        loading_key=\"Loading (mmol/g)\",\n",
    "                                        pressure_key=\"Pressure (bar)\",\n",
    "                                        fill_value=df_mof['Loading (mmol/g)'].max())\n",
    "    return pure_isotherm"
   ]
  },
  {
   "cell_type": "markdown",
   "id": "cb781329-f645-41cf-a2a1-6c814d9c30cb",
   "metadata": {},
   "source": [
    "#### Loading q values in binary mixture"
   ]
  },
  {
   "cell_type": "code",
   "execution_count": 4,
   "id": "e07c513f-ba5c-4056-ba0c-140d7d06a02a",
   "metadata": {},
   "outputs": [],
   "source": [
    "def get_mixt_q(N2_isotherm, CO2_isotherm, pressure):\n",
    "    p_part = pressure*np.array([0.85,0.15])\n",
    "    q_mix = pyiast.iast(p_part, [N2_isotherm, CO2_isotherm], verboseflag=False)\n",
    "    return q_mix"
   ]
  },
  {
   "cell_type": "markdown",
   "id": "9b0a562e-dc8d-4887-a601-b3b0bbf3820a",
   "metadata": {},
   "source": [
    "#### selectivity calculation"
   ]
  },
  {
   "cell_type": "code",
   "execution_count": 7,
   "id": "21441cbb-385c-402d-a8c1-4720afb6fe5f",
   "metadata": {},
   "outputs": [],
   "source": [
    "def get_selectivity(mof,pressures,loading_absolute_average, S_pressure):\n",
    "    name_N2 = f\"{mof}_N2\"\n",
    "    name_CO2 = f\"{mof}_CO2\"\n",
    "    \n",
    "    df_N2 = conv_to_csv(pressures, loading_absolute_average, name_N2)\n",
    "    N2_isotherm = get_pure_q(df_N2)\n",
    "\n",
    "    df_CO2 = conv_to_csv(pressures, loading_absolute_average, name_CO2)\n",
    "    CO2_isotherm = get_pure_q(df_CO2)\n",
    "    \n",
    "    q_mix = get_mixt_q(N2_isotherm, CO2_isotherm, S_pressure)\n",
    "    Selectivity_mof = (0.85/0.15)*(q_mix[1]/q_mix[2])\n",
    "    return Selectivity_mof"
   ]
  },
  {
   "cell_type": "markdown",
   "id": "49838b96-70f2-4d11-a74f-a5560281467c",
   "metadata": {},
   "source": [
    "#### values computation and display"
   ]
  },
  {
   "cell_type": "code",
   "execution_count": null,
   "id": "0c3eebc3-9dcc-44cc-92cc-8d71daa4067b",
   "metadata": {},
   "outputs": [],
   "source": []
  }
 ],
 "metadata": {
  "kernelspec": {
   "display_name": "Python 3 (ipykernel)",
   "language": "python",
   "name": "python3"
  },
  "language_info": {
   "codemirror_mode": {
    "name": "ipython",
    "version": 3
   },
   "file_extension": ".py",
   "mimetype": "text/x-python",
   "name": "python",
   "nbconvert_exporter": "python",
   "pygments_lexer": "ipython3",
   "version": "3.10.14"
  }
 },
 "nbformat": 4,
 "nbformat_minor": 5
}
