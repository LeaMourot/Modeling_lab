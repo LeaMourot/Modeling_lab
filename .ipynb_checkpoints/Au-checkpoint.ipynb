{
 "cells": [
  {
   "cell_type": "markdown",
   "id": "beb144bd-0952-44d0-a5ae-82bc08a54ec6",
   "metadata": {},
   "source": [
    "# Part A"
   ]
  },
  {
   "cell_type": "code",
   "execution_count": 2,
   "id": "6626ecc1-cbb7-4931-839a-97e42ef91b02",
   "metadata": {},
   "outputs": [],
   "source": [
    "import pandas as pd\n",
    "\n",
    "df = pd.read_csv('.\\\\1-PeriodicTable.csv')\n"
   ]
  },
  {
   "cell_type": "markdown",
   "id": "ebbbe7a5-709e-4e53-b390-705ca3b57ae9",
   "metadata": {},
   "source": [
    "**1. Explain what the data is about**"
   ]
  },
  {
   "cell_type": "markdown",
   "id": "25dbd619-60c7-4cd8-b066-19de25fa14ce",
   "metadata": {},
   "source": [
    "This document is a table gathering different characteristics of the periodic table elements as their atomic number, symbol, name, atomic mass, electronic configuration, CPKHexColor, electronegativity, atomic radius, ionization energy, electron affinity, oxidation states, standard states, melting point, boiling point, density, group block and finally year discovery."
   ]
  },
  {
   "cell_type": "markdown",
   "id": "ba7d7418-73d1-4fcd-b48e-f3fb603b1d21",
   "metadata": {},
   "source": [
    "**2. What are the datatypes in your dataframe ?**"
   ]
  },
  {
   "cell_type": "markdown",
   "id": "1416f823-4e9a-427e-b74c-047b04605d62",
   "metadata": {},
   "source": [
    "The datatypes of each characteristic in our dataframe are :\n",
    "- atomic numbers are integers (int64)\n",
    "- symbol, name, CPKHexColor, electron configuration, oxidation states, standard state, group block and year discovery are strings\n",
    "- atomic mass, electronegativity, atomic radius, ionization energy, electron affinity, melting point, boiling point and density are float (float64)\n",
    "\n",
    "The following code was used to check the datatypes of our dataframe : \n"
   ]
  },
  {
   "cell_type": "code",
   "execution_count": 3,
   "id": "ac45f132-1804-4ee6-be07-002ace228004",
   "metadata": {},
   "outputs": [
    {
     "name": "stdout",
     "output_type": "stream",
     "text": [
      " AtomicNumber | Type: <class 'numpy.int64'>\n",
      " Symbol | Type: <class 'str'>\n",
      " Name | Type: <class 'str'>\n",
      " AtomicMass | Type: <class 'numpy.float64'>\n",
      " CPKHexColor | Type: <class 'str'>\n",
      " ElectronConfiguration | Type: <class 'str'>\n",
      " Electronegativity | Type: <class 'numpy.float64'>\n",
      " AtomicRadius | Type: <class 'numpy.float64'>\n",
      " IonizationEnergy | Type: <class 'numpy.float64'>\n",
      " ElectronAffinity | Type: <class 'numpy.float64'>\n",
      " OxidationStates | Type: <class 'str'>\n",
      " StandardState | Type: <class 'str'>\n",
      " MeltingPoint | Type: <class 'numpy.float64'>\n",
      " BoilingPoint | Type: <class 'numpy.float64'>\n",
      " Density | Type: <class 'numpy.float64'>\n",
      " GroupBlock | Type: <class 'str'>\n",
      " YearDiscovered | Type: <class 'str'>\n"
     ]
    }
   ],
   "source": [
    "hydrogen_info = df.loc[0]\n",
    "for column in df.columns:\n",
    "    value = hydrogen_info[column]\n",
    "    print(f\" {column} | Type: {type(value)}\")"
   ]
  },
  {
   "cell_type": "markdown",
   "id": "2375a16d-b8ce-41f4-aa9b-e7cc52ae53ab",
   "metadata": {},
   "source": [
    "**3.How many rows and columns do you have ?**"
   ]
  },
  {
   "cell_type": "markdown",
   "id": "f426ccf7-5ebb-48a5-be1b-bb4feb63d57e",
   "metadata": {},
   "source": [
    "We have in our dataframe 118 rows (without counting the title of each column) and 17 columns."
   ]
  },
  {
   "cell_type": "markdown",
   "id": "b2995312-3778-43e9-9930-11c5cfc7681a",
   "metadata": {},
   "source": [
    "**4.Do you have missing data ? If yes, how many ?**"
   ]
  },
  {
   "cell_type": "markdown",
   "id": "ac1f0a11-ac9a-49a0-8e91-2b7896b863b5",
   "metadata": {},
   "source": [
    "We have 192 types of data that are missed in our dataframe : \n",
    "- CPKHexColor : 10 missing values\n",
    "- Electronegativity : 23 missing values\n",
    "- Atomic Radius : 19 missing values\n",
    "- Ionization Energy : 16 missing values\n",
    "- Electron Affinity : 61 missing values\n",
    "- Oxidation States : 1 missing value\n",
    "- Melting Point : 15 missing values\n",
    "- Boiling Point : 25 missing values\n",
    "- Density : 22 missing values"
   ]
  },
  {
   "cell_type": "markdown",
   "id": "22b7ff44-fce7-4797-8309-260e97b0adf0",
   "metadata": {},
   "source": [
    "# Part B"
   ]
  },
  {
   "cell_type": "markdown",
   "id": "870a3811-d037-40ff-ac5c-7f7778d94631",
   "metadata": {},
   "source": [
    "**1.Select 2 subsets (i.e., certain rows) of your data using Boolean indexing. The selection\n",
    "must be based on 2 different conditions**"
   ]
  },
  {
   "cell_type": "markdown",
   "id": "708abba1-c063-4203-9010-c1fe57b9a172",
   "metadata": {},
   "source": [
    "For our first subset, we choose to take only noble atoms :"
   ]
  },
  {
   "cell_type": "code",
   "execution_count": 4,
   "id": "a9bb411d-f658-4a31-858e-437ef5c7e517",
   "metadata": {},
   "outputs": [
    {
     "data": {
      "text/html": [
       "<div>\n",
       "<style scoped>\n",
       "    .dataframe tbody tr th:only-of-type {\n",
       "        vertical-align: middle;\n",
       "    }\n",
       "\n",
       "    .dataframe tbody tr th {\n",
       "        vertical-align: top;\n",
       "    }\n",
       "\n",
       "    .dataframe thead th {\n",
       "        text-align: right;\n",
       "    }\n",
       "</style>\n",
       "<table border=\"1\" class=\"dataframe\">\n",
       "  <thead>\n",
       "    <tr style=\"text-align: right;\">\n",
       "      <th></th>\n",
       "      <th>AtomicNumber</th>\n",
       "      <th>Symbol</th>\n",
       "      <th>Name</th>\n",
       "      <th>AtomicMass</th>\n",
       "      <th>CPKHexColor</th>\n",
       "      <th>ElectronConfiguration</th>\n",
       "      <th>Electronegativity</th>\n",
       "      <th>AtomicRadius</th>\n",
       "      <th>IonizationEnergy</th>\n",
       "      <th>ElectronAffinity</th>\n",
       "      <th>OxidationStates</th>\n",
       "      <th>StandardState</th>\n",
       "      <th>MeltingPoint</th>\n",
       "      <th>BoilingPoint</th>\n",
       "      <th>Density</th>\n",
       "      <th>GroupBlock</th>\n",
       "      <th>YearDiscovered</th>\n",
       "    </tr>\n",
       "  </thead>\n",
       "  <tbody>\n",
       "    <tr>\n",
       "      <th>1</th>\n",
       "      <td>2</td>\n",
       "      <td>He</td>\n",
       "      <td>Helium</td>\n",
       "      <td>4.00260</td>\n",
       "      <td>D9FFFF</td>\n",
       "      <td>1s2</td>\n",
       "      <td>NaN</td>\n",
       "      <td>140.0</td>\n",
       "      <td>24.587</td>\n",
       "      <td>NaN</td>\n",
       "      <td>0</td>\n",
       "      <td>Gas</td>\n",
       "      <td>0.95</td>\n",
       "      <td>4.22</td>\n",
       "      <td>0.000179</td>\n",
       "      <td>Noble gas</td>\n",
       "      <td>1868</td>\n",
       "    </tr>\n",
       "    <tr>\n",
       "      <th>9</th>\n",
       "      <td>10</td>\n",
       "      <td>Ne</td>\n",
       "      <td>Neon</td>\n",
       "      <td>20.18000</td>\n",
       "      <td>B3E3F5</td>\n",
       "      <td>[He]2s2 2p6</td>\n",
       "      <td>NaN</td>\n",
       "      <td>154.0</td>\n",
       "      <td>21.565</td>\n",
       "      <td>NaN</td>\n",
       "      <td>0</td>\n",
       "      <td>Gas</td>\n",
       "      <td>24.56</td>\n",
       "      <td>27.07</td>\n",
       "      <td>0.000900</td>\n",
       "      <td>Noble gas</td>\n",
       "      <td>1898</td>\n",
       "    </tr>\n",
       "    <tr>\n",
       "      <th>17</th>\n",
       "      <td>18</td>\n",
       "      <td>Ar</td>\n",
       "      <td>Argon</td>\n",
       "      <td>39.90000</td>\n",
       "      <td>80D1E3</td>\n",
       "      <td>[Ne]3s2 3p6</td>\n",
       "      <td>NaN</td>\n",
       "      <td>188.0</td>\n",
       "      <td>15.760</td>\n",
       "      <td>NaN</td>\n",
       "      <td>0</td>\n",
       "      <td>Gas</td>\n",
       "      <td>83.80</td>\n",
       "      <td>87.30</td>\n",
       "      <td>0.001784</td>\n",
       "      <td>Noble gas</td>\n",
       "      <td>1894</td>\n",
       "    </tr>\n",
       "    <tr>\n",
       "      <th>35</th>\n",
       "      <td>36</td>\n",
       "      <td>Kr</td>\n",
       "      <td>Krypton</td>\n",
       "      <td>83.80000</td>\n",
       "      <td>5CB8D1</td>\n",
       "      <td>[Ar]4s2 3d10 4p6</td>\n",
       "      <td>3.0</td>\n",
       "      <td>202.0</td>\n",
       "      <td>14.000</td>\n",
       "      <td>NaN</td>\n",
       "      <td>0</td>\n",
       "      <td>Gas</td>\n",
       "      <td>115.79</td>\n",
       "      <td>119.93</td>\n",
       "      <td>0.003733</td>\n",
       "      <td>Noble gas</td>\n",
       "      <td>1898</td>\n",
       "    </tr>\n",
       "    <tr>\n",
       "      <th>53</th>\n",
       "      <td>54</td>\n",
       "      <td>Xe</td>\n",
       "      <td>Xenon</td>\n",
       "      <td>131.29000</td>\n",
       "      <td>429EB0</td>\n",
       "      <td>[Kr]5s2 4d10 5p6</td>\n",
       "      <td>2.6</td>\n",
       "      <td>216.0</td>\n",
       "      <td>12.130</td>\n",
       "      <td>NaN</td>\n",
       "      <td>0</td>\n",
       "      <td>Gas</td>\n",
       "      <td>161.36</td>\n",
       "      <td>165.03</td>\n",
       "      <td>0.005887</td>\n",
       "      <td>Noble gas</td>\n",
       "      <td>1898</td>\n",
       "    </tr>\n",
       "    <tr>\n",
       "      <th>85</th>\n",
       "      <td>86</td>\n",
       "      <td>Rn</td>\n",
       "      <td>Radon</td>\n",
       "      <td>222.01758</td>\n",
       "      <td>428296</td>\n",
       "      <td>[Xe]6s2 4f14 5d10 6p6</td>\n",
       "      <td>NaN</td>\n",
       "      <td>220.0</td>\n",
       "      <td>10.745</td>\n",
       "      <td>NaN</td>\n",
       "      <td>0</td>\n",
       "      <td>Gas</td>\n",
       "      <td>202.00</td>\n",
       "      <td>211.45</td>\n",
       "      <td>0.009730</td>\n",
       "      <td>Noble gas</td>\n",
       "      <td>1900</td>\n",
       "    </tr>\n",
       "    <tr>\n",
       "      <th>117</th>\n",
       "      <td>118</td>\n",
       "      <td>Og</td>\n",
       "      <td>Oganesson</td>\n",
       "      <td>295.21600</td>\n",
       "      <td>NaN</td>\n",
       "      <td>[Rn]7s2 7p6 5f14 6d10 (predicted)</td>\n",
       "      <td>NaN</td>\n",
       "      <td>NaN</td>\n",
       "      <td>NaN</td>\n",
       "      <td>NaN</td>\n",
       "      <td>+6, +4, +2, +1, 0, -1</td>\n",
       "      <td>Expected to be a Gas</td>\n",
       "      <td>NaN</td>\n",
       "      <td>NaN</td>\n",
       "      <td>NaN</td>\n",
       "      <td>Noble gas</td>\n",
       "      <td>2006</td>\n",
       "    </tr>\n",
       "  </tbody>\n",
       "</table>\n",
       "</div>"
      ],
      "text/plain": [
       "     AtomicNumber Symbol       Name  AtomicMass CPKHexColor  \\\n",
       "1               2     He     Helium     4.00260      D9FFFF   \n",
       "9              10     Ne       Neon    20.18000      B3E3F5   \n",
       "17             18     Ar      Argon    39.90000      80D1E3   \n",
       "35             36     Kr    Krypton    83.80000      5CB8D1   \n",
       "53             54     Xe      Xenon   131.29000      429EB0   \n",
       "85             86     Rn      Radon   222.01758      428296   \n",
       "117           118     Og  Oganesson   295.21600         NaN   \n",
       "\n",
       "                 ElectronConfiguration  Electronegativity  AtomicRadius  \\\n",
       "1                                  1s2                NaN         140.0   \n",
       "9                          [He]2s2 2p6                NaN         154.0   \n",
       "17                         [Ne]3s2 3p6                NaN         188.0   \n",
       "35                    [Ar]4s2 3d10 4p6                3.0         202.0   \n",
       "53                    [Kr]5s2 4d10 5p6                2.6         216.0   \n",
       "85               [Xe]6s2 4f14 5d10 6p6                NaN         220.0   \n",
       "117  [Rn]7s2 7p6 5f14 6d10 (predicted)                NaN           NaN   \n",
       "\n",
       "     IonizationEnergy  ElectronAffinity        OxidationStates  \\\n",
       "1              24.587               NaN                      0   \n",
       "9              21.565               NaN                      0   \n",
       "17             15.760               NaN                      0   \n",
       "35             14.000               NaN                      0   \n",
       "53             12.130               NaN                      0   \n",
       "85             10.745               NaN                      0   \n",
       "117               NaN               NaN  +6, +4, +2, +1, 0, -1   \n",
       "\n",
       "            StandardState  MeltingPoint  BoilingPoint   Density GroupBlock  \\\n",
       "1                     Gas          0.95          4.22  0.000179  Noble gas   \n",
       "9                     Gas         24.56         27.07  0.000900  Noble gas   \n",
       "17                    Gas         83.80         87.30  0.001784  Noble gas   \n",
       "35                    Gas        115.79        119.93  0.003733  Noble gas   \n",
       "53                    Gas        161.36        165.03  0.005887  Noble gas   \n",
       "85                    Gas        202.00        211.45  0.009730  Noble gas   \n",
       "117  Expected to be a Gas           NaN           NaN       NaN  Noble gas   \n",
       "\n",
       "    YearDiscovered  \n",
       "1             1868  \n",
       "9             1898  \n",
       "17            1894  \n",
       "35            1898  \n",
       "53            1898  \n",
       "85            1900  \n",
       "117           2006  "
      ]
     },
     "execution_count": 4,
     "metadata": {},
     "output_type": "execute_result"
    }
   ],
   "source": [
    "df[(df['GroupBlock'] == 'Noble gas') ]"
   ]
  },
  {
   "cell_type": "markdown",
   "id": "c24b52a0-412e-40de-891a-1cebfa3136a0",
   "metadata": {},
   "source": [
    "For our second subset, we choose to take elements that their standard states are solids :"
   ]
  },
  {
   "cell_type": "code",
   "execution_count": 5,
   "id": "23b20fb3-1dc1-4b55-917d-77733ddd6f0a",
   "metadata": {},
   "outputs": [
    {
     "data": {
      "text/html": [
       "<div>\n",
       "<style scoped>\n",
       "    .dataframe tbody tr th:only-of-type {\n",
       "        vertical-align: middle;\n",
       "    }\n",
       "\n",
       "    .dataframe tbody tr th {\n",
       "        vertical-align: top;\n",
       "    }\n",
       "\n",
       "    .dataframe thead th {\n",
       "        text-align: right;\n",
       "    }\n",
       "</style>\n",
       "<table border=\"1\" class=\"dataframe\">\n",
       "  <thead>\n",
       "    <tr style=\"text-align: right;\">\n",
       "      <th></th>\n",
       "      <th>AtomicNumber</th>\n",
       "      <th>Symbol</th>\n",
       "      <th>Name</th>\n",
       "      <th>AtomicMass</th>\n",
       "      <th>CPKHexColor</th>\n",
       "      <th>ElectronConfiguration</th>\n",
       "      <th>Electronegativity</th>\n",
       "      <th>AtomicRadius</th>\n",
       "      <th>IonizationEnergy</th>\n",
       "      <th>ElectronAffinity</th>\n",
       "      <th>OxidationStates</th>\n",
       "      <th>StandardState</th>\n",
       "      <th>MeltingPoint</th>\n",
       "      <th>BoilingPoint</th>\n",
       "      <th>Density</th>\n",
       "      <th>GroupBlock</th>\n",
       "      <th>YearDiscovered</th>\n",
       "    </tr>\n",
       "  </thead>\n",
       "  <tbody>\n",
       "    <tr>\n",
       "      <th>2</th>\n",
       "      <td>3</td>\n",
       "      <td>Li</td>\n",
       "      <td>Lithium</td>\n",
       "      <td>7.000000</td>\n",
       "      <td>CC80FF</td>\n",
       "      <td>[He]2s1</td>\n",
       "      <td>0.98</td>\n",
       "      <td>182.0</td>\n",
       "      <td>5.392</td>\n",
       "      <td>0.618</td>\n",
       "      <td>+1</td>\n",
       "      <td>Solid</td>\n",
       "      <td>453.65</td>\n",
       "      <td>1615.0</td>\n",
       "      <td>0.534</td>\n",
       "      <td>Alkali metal</td>\n",
       "      <td>1817</td>\n",
       "    </tr>\n",
       "    <tr>\n",
       "      <th>3</th>\n",
       "      <td>4</td>\n",
       "      <td>Be</td>\n",
       "      <td>Beryllium</td>\n",
       "      <td>9.012183</td>\n",
       "      <td>C2FF00</td>\n",
       "      <td>[He]2s2</td>\n",
       "      <td>1.57</td>\n",
       "      <td>153.0</td>\n",
       "      <td>9.323</td>\n",
       "      <td>NaN</td>\n",
       "      <td>+2</td>\n",
       "      <td>Solid</td>\n",
       "      <td>1560.00</td>\n",
       "      <td>2744.0</td>\n",
       "      <td>1.850</td>\n",
       "      <td>Alkaline earth metal</td>\n",
       "      <td>1798</td>\n",
       "    </tr>\n",
       "    <tr>\n",
       "      <th>4</th>\n",
       "      <td>5</td>\n",
       "      <td>B</td>\n",
       "      <td>Boron</td>\n",
       "      <td>10.810000</td>\n",
       "      <td>FFB5B5</td>\n",
       "      <td>[He]2s2 2p1</td>\n",
       "      <td>2.04</td>\n",
       "      <td>192.0</td>\n",
       "      <td>8.298</td>\n",
       "      <td>0.277</td>\n",
       "      <td>+3</td>\n",
       "      <td>Solid</td>\n",
       "      <td>2348.00</td>\n",
       "      <td>4273.0</td>\n",
       "      <td>2.370</td>\n",
       "      <td>Metalloid</td>\n",
       "      <td>1808</td>\n",
       "    </tr>\n",
       "    <tr>\n",
       "      <th>5</th>\n",
       "      <td>6</td>\n",
       "      <td>C</td>\n",
       "      <td>Carbon</td>\n",
       "      <td>12.011000</td>\n",
       "      <td>909090</td>\n",
       "      <td>[He]2s2 2p2</td>\n",
       "      <td>2.55</td>\n",
       "      <td>170.0</td>\n",
       "      <td>11.260</td>\n",
       "      <td>1.263</td>\n",
       "      <td>+4, +2, -4</td>\n",
       "      <td>Solid</td>\n",
       "      <td>3823.00</td>\n",
       "      <td>4098.0</td>\n",
       "      <td>2.267</td>\n",
       "      <td>Nonmetal</td>\n",
       "      <td>Ancient</td>\n",
       "    </tr>\n",
       "    <tr>\n",
       "      <th>10</th>\n",
       "      <td>11</td>\n",
       "      <td>Na</td>\n",
       "      <td>Sodium</td>\n",
       "      <td>22.989769</td>\n",
       "      <td>AB5CF2</td>\n",
       "      <td>[Ne]3s1</td>\n",
       "      <td>0.93</td>\n",
       "      <td>227.0</td>\n",
       "      <td>5.139</td>\n",
       "      <td>0.548</td>\n",
       "      <td>+1</td>\n",
       "      <td>Solid</td>\n",
       "      <td>370.95</td>\n",
       "      <td>1156.0</td>\n",
       "      <td>0.970</td>\n",
       "      <td>Alkali metal</td>\n",
       "      <td>1807</td>\n",
       "    </tr>\n",
       "    <tr>\n",
       "      <th>...</th>\n",
       "      <td>...</td>\n",
       "      <td>...</td>\n",
       "      <td>...</td>\n",
       "      <td>...</td>\n",
       "      <td>...</td>\n",
       "      <td>...</td>\n",
       "      <td>...</td>\n",
       "      <td>...</td>\n",
       "      <td>...</td>\n",
       "      <td>...</td>\n",
       "      <td>...</td>\n",
       "      <td>...</td>\n",
       "      <td>...</td>\n",
       "      <td>...</td>\n",
       "      <td>...</td>\n",
       "      <td>...</td>\n",
       "      <td>...</td>\n",
       "    </tr>\n",
       "    <tr>\n",
       "      <th>104</th>\n",
       "      <td>105</td>\n",
       "      <td>Db</td>\n",
       "      <td>Dubnium</td>\n",
       "      <td>268.126000</td>\n",
       "      <td>D1004F</td>\n",
       "      <td>[Rn]7s2 5f14 6d3</td>\n",
       "      <td>NaN</td>\n",
       "      <td>NaN</td>\n",
       "      <td>NaN</td>\n",
       "      <td>NaN</td>\n",
       "      <td>5, 4, 3</td>\n",
       "      <td>Solid</td>\n",
       "      <td>NaN</td>\n",
       "      <td>NaN</td>\n",
       "      <td>NaN</td>\n",
       "      <td>Transition metal</td>\n",
       "      <td>1967</td>\n",
       "    </tr>\n",
       "    <tr>\n",
       "      <th>105</th>\n",
       "      <td>106</td>\n",
       "      <td>Sg</td>\n",
       "      <td>Seaborgium</td>\n",
       "      <td>269.128000</td>\n",
       "      <td>D90045</td>\n",
       "      <td>[Rn]7s2 5f14 6d4</td>\n",
       "      <td>NaN</td>\n",
       "      <td>NaN</td>\n",
       "      <td>NaN</td>\n",
       "      <td>NaN</td>\n",
       "      <td>6, 5, 4, 3, 0</td>\n",
       "      <td>Solid</td>\n",
       "      <td>NaN</td>\n",
       "      <td>NaN</td>\n",
       "      <td>NaN</td>\n",
       "      <td>Transition metal</td>\n",
       "      <td>1974</td>\n",
       "    </tr>\n",
       "    <tr>\n",
       "      <th>106</th>\n",
       "      <td>107</td>\n",
       "      <td>Bh</td>\n",
       "      <td>Bohrium</td>\n",
       "      <td>270.133000</td>\n",
       "      <td>E00038</td>\n",
       "      <td>[Rn]7s2 5f14 6d5</td>\n",
       "      <td>NaN</td>\n",
       "      <td>NaN</td>\n",
       "      <td>NaN</td>\n",
       "      <td>NaN</td>\n",
       "      <td>7, 5, 4, 3</td>\n",
       "      <td>Solid</td>\n",
       "      <td>NaN</td>\n",
       "      <td>NaN</td>\n",
       "      <td>NaN</td>\n",
       "      <td>Transition metal</td>\n",
       "      <td>1976</td>\n",
       "    </tr>\n",
       "    <tr>\n",
       "      <th>107</th>\n",
       "      <td>108</td>\n",
       "      <td>Hs</td>\n",
       "      <td>Hassium</td>\n",
       "      <td>269.133600</td>\n",
       "      <td>E6002E</td>\n",
       "      <td>[Rn]7s2 5f14 6d6</td>\n",
       "      <td>NaN</td>\n",
       "      <td>NaN</td>\n",
       "      <td>NaN</td>\n",
       "      <td>NaN</td>\n",
       "      <td>8, 6, 5, 4, 3, 2</td>\n",
       "      <td>Solid</td>\n",
       "      <td>NaN</td>\n",
       "      <td>NaN</td>\n",
       "      <td>NaN</td>\n",
       "      <td>Transition metal</td>\n",
       "      <td>1984</td>\n",
       "    </tr>\n",
       "    <tr>\n",
       "      <th>108</th>\n",
       "      <td>109</td>\n",
       "      <td>Mt</td>\n",
       "      <td>Meitnerium</td>\n",
       "      <td>277.154000</td>\n",
       "      <td>EB0026</td>\n",
       "      <td>[Rn]7s2 5f14 6d7 (calculated)</td>\n",
       "      <td>NaN</td>\n",
       "      <td>NaN</td>\n",
       "      <td>NaN</td>\n",
       "      <td>NaN</td>\n",
       "      <td>9, 8, 6, 4, 3, 1</td>\n",
       "      <td>Solid</td>\n",
       "      <td>NaN</td>\n",
       "      <td>NaN</td>\n",
       "      <td>NaN</td>\n",
       "      <td>Transition metal</td>\n",
       "      <td>1982</td>\n",
       "    </tr>\n",
       "  </tbody>\n",
       "</table>\n",
       "<p>96 rows × 17 columns</p>\n",
       "</div>"
      ],
      "text/plain": [
       "     AtomicNumber Symbol        Name  AtomicMass CPKHexColor  \\\n",
       "2               3     Li     Lithium    7.000000      CC80FF   \n",
       "3               4     Be   Beryllium    9.012183      C2FF00   \n",
       "4               5      B       Boron   10.810000      FFB5B5   \n",
       "5               6      C      Carbon   12.011000      909090   \n",
       "10             11     Na      Sodium   22.989769      AB5CF2   \n",
       "..            ...    ...         ...         ...         ...   \n",
       "104           105     Db     Dubnium  268.126000      D1004F   \n",
       "105           106     Sg  Seaborgium  269.128000      D90045   \n",
       "106           107     Bh     Bohrium  270.133000      E00038   \n",
       "107           108     Hs     Hassium  269.133600      E6002E   \n",
       "108           109     Mt  Meitnerium  277.154000      EB0026   \n",
       "\n",
       "             ElectronConfiguration  Electronegativity  AtomicRadius  \\\n",
       "2                          [He]2s1               0.98         182.0   \n",
       "3                          [He]2s2               1.57         153.0   \n",
       "4                      [He]2s2 2p1               2.04         192.0   \n",
       "5                      [He]2s2 2p2               2.55         170.0   \n",
       "10                         [Ne]3s1               0.93         227.0   \n",
       "..                             ...                ...           ...   \n",
       "104               [Rn]7s2 5f14 6d3                NaN           NaN   \n",
       "105               [Rn]7s2 5f14 6d4                NaN           NaN   \n",
       "106               [Rn]7s2 5f14 6d5                NaN           NaN   \n",
       "107               [Rn]7s2 5f14 6d6                NaN           NaN   \n",
       "108  [Rn]7s2 5f14 6d7 (calculated)                NaN           NaN   \n",
       "\n",
       "     IonizationEnergy  ElectronAffinity   OxidationStates StandardState  \\\n",
       "2               5.392             0.618                +1         Solid   \n",
       "3               9.323               NaN                +2         Solid   \n",
       "4               8.298             0.277                +3         Solid   \n",
       "5              11.260             1.263        +4, +2, -4         Solid   \n",
       "10              5.139             0.548                +1         Solid   \n",
       "..                ...               ...               ...           ...   \n",
       "104               NaN               NaN           5, 4, 3         Solid   \n",
       "105               NaN               NaN     6, 5, 4, 3, 0         Solid   \n",
       "106               NaN               NaN        7, 5, 4, 3         Solid   \n",
       "107               NaN               NaN  8, 6, 5, 4, 3, 2         Solid   \n",
       "108               NaN               NaN  9, 8, 6, 4, 3, 1         Solid   \n",
       "\n",
       "     MeltingPoint  BoilingPoint  Density            GroupBlock YearDiscovered  \n",
       "2          453.65        1615.0    0.534          Alkali metal           1817  \n",
       "3         1560.00        2744.0    1.850  Alkaline earth metal           1798  \n",
       "4         2348.00        4273.0    2.370             Metalloid           1808  \n",
       "5         3823.00        4098.0    2.267              Nonmetal        Ancient  \n",
       "10         370.95        1156.0    0.970          Alkali metal           1807  \n",
       "..            ...           ...      ...                   ...            ...  \n",
       "104           NaN           NaN      NaN      Transition metal           1967  \n",
       "105           NaN           NaN      NaN      Transition metal           1974  \n",
       "106           NaN           NaN      NaN      Transition metal           1976  \n",
       "107           NaN           NaN      NaN      Transition metal           1984  \n",
       "108           NaN           NaN      NaN      Transition metal           1982  \n",
       "\n",
       "[96 rows x 17 columns]"
      ]
     },
     "execution_count": 5,
     "metadata": {},
     "output_type": "execute_result"
    }
   ],
   "source": [
    "df[(df['StandardState'] == 'Solid') ]"
   ]
  },
  {
   "cell_type": "markdown",
   "id": "3b1949d3-d49c-4079-a039-65dfb22389c5",
   "metadata": {},
   "source": [
    "**2.Explain your choices**"
   ]
  },
  {
   "cell_type": "markdown",
   "id": "dfd6ed27-6d4d-48b8-b553-c95ec2a7d1f8",
   "metadata": {},
   "source": [
    "We have chosen to select the noble gases in our first condition. This allows us to find them more easily, so we can write the electronic configuration of any element in the table.  It's also useful to know the form of elements in their standard state (solid, liquid or gas at 25°C and 1 bar) when we want to carry out a chemical reaction. Here, we have chosen to select only elements that are solids in their standard states but we could also do the same for gas or liquid. "
   ]
  },
  {
   "cell_type": "markdown",
   "id": "d557363d-5765-4d33-afc2-4760fa7f84d6",
   "metadata": {},
   "source": [
    "**3.Discuss at least 4 interesting points of your data. For instance, you can find maxima,\n",
    "minima, mean, standard deviation, etc…**"
   ]
  },
  {
   "cell_type": "markdown",
   "id": "391e0ff8-4181-4800-8250-8d1478a66efd",
   "metadata": {},
   "source": [
    "The 4 interesting points of our dataframe we have chosen are as follows :\n",
    "* the average of the atomic radius of an atom\n",
    "* the median atomic mass\n",
    "* the minimal ionization energy\n",
    "\n"
   ]
  },
  {
   "cell_type": "markdown",
   "id": "d866f063-109b-40a5-9da3-fbf6d3cdb640",
   "metadata": {},
   "source": [
    "**Get the average of the boiling point of the atoms**"
   ]
  },
  {
   "cell_type": "code",
   "execution_count": 22,
   "id": "66d26fae-ecec-47ce-b0b6-87918fc35c15",
   "metadata": {},
   "outputs": [
    {
     "name": "stdout",
     "output_type": "stream",
     "text": [
      "The mean of boiling point is : 2536.21247311828\n"
     ]
    }
   ],
   "source": [
    "mean_boiling_point=df['BoilingPoint'].mean()\n",
    "print(f\"The mean of boiling point is : {mean_boiling_point}\")"
   ]
  },
  {
   "cell_type": "markdown",
   "id": "75b3e09d-fd0d-4ccb-9a96-8096f0e925e2",
   "metadata": {},
   "source": [
    "**Get the median boiling point**"
   ]
  },
  {
   "cell_type": "code",
   "execution_count": 21,
   "id": "1765ff97-325c-4ad3-9028-24e2522fcd7f",
   "metadata": {},
   "outputs": [
    {
     "name": "stdout",
     "output_type": "stream",
     "text": [
      "The median of boiling point is : 2792.0\n"
     ]
    }
   ],
   "source": [
    "median_boiling_point=df['BoilingPoint'].median()\n",
    "print(f\"The median of boiling point is : {median_boiling_point}\")"
   ]
  },
  {
   "cell_type": "markdown",
   "id": "62f2c9f0-e5a4-480b-b239-8ed8af991e30",
   "metadata": {},
   "source": [
    "**Get the maximum boiling point**"
   ]
  },
  {
   "cell_type": "code",
   "execution_count": 20,
   "id": "a86f0b82-a381-4b1d-856a-3e52c61acaf4",
   "metadata": {},
   "outputs": [
    {
     "name": "stdout",
     "output_type": "stream",
     "text": [
      "The maximum of boiling point is : 5869.0\n"
     ]
    }
   ],
   "source": [
    "max_boiling_point=df['BoilingPoint'].max()\n",
    "print(f\"The maximum of boiling point is : {max_boiling_point}\")"
   ]
  },
  {
   "cell_type": "markdown",
   "id": "002c6271-9e49-4dc6-8322-8aab078c9b66",
   "metadata": {},
   "source": [
    "**Get the minimal boiling pont**"
   ]
  },
  {
   "cell_type": "code",
   "execution_count": 19,
   "id": "c5a7edf6-2034-44bd-a45f-e19486e4b767",
   "metadata": {},
   "outputs": [
    {
     "name": "stdout",
     "output_type": "stream",
     "text": [
      "The minimum of boiling point is : 4.22\n"
     ]
    }
   ],
   "source": [
    "min_boiling_point=df['BoilingPoint'].min()\n",
    "print(f\"The minimum of boiling point is : {min_boiling_point}\")"
   ]
  },
  {
   "cell_type": "markdown",
   "id": "47f6d1f2-804d-46be-a50a-c79c23ab8a5d",
   "metadata": {},
   "source": [
    "Nous avons ici choisi d'étudier les points d'ébulition des éléments du tableau périodique parmis ceux qui sont fourni dans notre tableau. Nous avons décidé de faire apparaitre le maximum (5869 K) et le minimum (4.22 K) de ces valeurs ce qui nous permet de calculer l'étendue (5864.78 K). On remarque alors que cette étendue est très grande, cela explique pourquoi les elements sont a des états tres différents selon les conditions de l'environement. La moyenne calculée est de 2536.21 K tandis que la mediane est de 2792 K, puisque la médiane se situe au milieu des valeurs listées (50% de valeurs avant et 50% de valeurs après) et quelle est supérieure ala mdiane nous pouvons conclure qu'il doit y avoir des valeurs aberrantes très petites de point d\"='ébulition qui diminue la valure moyenne des donées."
   ]
  },
  {
   "cell_type": "markdown",
   "id": "361e2570-8765-4dc2-8b63-07427c5d39b8",
   "metadata": {},
   "source": [
    "# Part C"
   ]
  },
  {
   "cell_type": "markdown",
   "id": "27fe132b-d6aa-4232-a0ee-78ce09dfd2dc",
   "metadata": {},
   "source": [
    "**1.Show parts of your data by creating 2 different data plots. Make sure you use 2 different\n",
    "plot types (scatter, histograms, density, pie-charts, Venn diagrams, etc…). For that you\n",
    "can use different libraries (matplotlib, seaborn, Bokeh, venn, etc…). Please add a title,\n",
    "proper axis labels and legends and make sure the plots are meaningful and readable.**\n"
   ]
  },
  {
   "cell_type": "code",
   "execution_count": null,
   "id": "ab7a27fa-a487-43d8-a513-3ad6a2d68839",
   "metadata": {},
   "outputs": [],
   "source": []
  },
  {
   "cell_type": "markdown",
   "id": "c26313df-45c1-44d4-b4a4-40887c5ecbf4",
   "metadata": {},
   "source": [
    "**2.Discuss the plots (5 each)**"
   ]
  },
  {
   "cell_type": "code",
   "execution_count": null,
   "id": "7673cec3-bf6f-47c8-a42b-ba752f5d4c43",
   "metadata": {},
   "outputs": [],
   "source": []
  }
 ],
 "metadata": {
  "kernelspec": {
   "display_name": "Python 3 (ipykernel)",
   "language": "python",
   "name": "python3"
  },
  "language_info": {
   "codemirror_mode": {
    "name": "ipython",
    "version": 3
   },
   "file_extension": ".py",
   "mimetype": "text/x-python",
   "name": "python",
   "nbconvert_exporter": "python",
   "pygments_lexer": "ipython3",
   "version": "3.11.5"
  }
 },
 "nbformat": 4,
 "nbformat_minor": 5
}
