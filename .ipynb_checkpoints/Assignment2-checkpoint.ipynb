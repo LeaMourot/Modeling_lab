{
 "cells": [
  {
   "cell_type": "code",
   "execution_count": 1,
   "id": "e01efd87-69a4-47bb-879e-7004d78eed40",
   "metadata": {},
   "outputs": [],
   "source": [
    "import pyiast\n"
   ]
  },
  {
   "cell_type": "code",
   "execution_count": null,
   "id": "0d9afb7e-f450-413f-aeee-1e5a108454ef",
   "metadata": {},
   "outputs": [],
   "source": []
  }
 ],
 "metadata": {
  "kernelspec": {
   "display_name": "Python 3 (ipykernel)",
   "language": "python",
   "name": "python3"
  },
  "language_info": {
   "codemirror_mode": {
    "name": "ipython",
    "version": 3
   },
   "file_extension": ".py",
   "mimetype": "text/x-python",
   "name": "python",
   "nbconvert_exporter": "python",
   "pygments_lexer": "ipython3",
   "version": "3.10.14"
  }
 },
 "nbformat": 4,
 "nbformat_minor": 5
}
