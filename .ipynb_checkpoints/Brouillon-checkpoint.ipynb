{
 "cells": [
  {
   "cell_type": "code",
   "execution_count": 2,
   "id": "bd0e9954-5223-4814-adaa-1c964fe0809b",
   "metadata": {},
   "outputs": [
    {
     "name": "stdout",
     "output_type": "stream",
     "text": [
      "Collecting pyiast\n",
      "  Downloading pyiast-1.4.3.tar.gz (10 kB)\n",
      "  Preparing metadata (setup.py) ... \u001b[?25ldone\n",
      "\u001b[?25hRequirement already satisfied: numpy in /Users/clotildeperrot/anaconda3/envs/model_lab/lib/python3.10/site-packages (from pyiast) (2.1.1)\n",
      "Collecting scipy (from pyiast)\n",
      "  Downloading scipy-1.14.1-cp310-cp310-macosx_14_0_arm64.whl.metadata (60 kB)\n",
      "Requirement already satisfied: pandas>=0.24.0 in /Users/clotildeperrot/anaconda3/envs/model_lab/lib/python3.10/site-packages (from pyiast) (2.2.2)\n",
      "Requirement already satisfied: matplotlib in /Users/clotildeperrot/anaconda3/envs/model_lab/lib/python3.10/site-packages (from pyiast) (3.9.2)\n",
      "Requirement already satisfied: python-dateutil>=2.8.2 in /Users/clotildeperrot/anaconda3/envs/model_lab/lib/python3.10/site-packages (from pandas>=0.24.0->pyiast) (2.9.0.post0)\n",
      "Requirement already satisfied: pytz>=2020.1 in /Users/clotildeperrot/anaconda3/envs/model_lab/lib/python3.10/site-packages (from pandas>=0.24.0->pyiast) (2024.2)\n",
      "Requirement already satisfied: tzdata>=2022.7 in /Users/clotildeperrot/anaconda3/envs/model_lab/lib/python3.10/site-packages (from pandas>=0.24.0->pyiast) (2024.1)\n",
      "Requirement already satisfied: contourpy>=1.0.1 in /Users/clotildeperrot/anaconda3/envs/model_lab/lib/python3.10/site-packages (from matplotlib->pyiast) (1.3.0)\n",
      "Requirement already satisfied: cycler>=0.10 in /Users/clotildeperrot/anaconda3/envs/model_lab/lib/python3.10/site-packages (from matplotlib->pyiast) (0.12.1)\n",
      "Requirement already satisfied: fonttools>=4.22.0 in /Users/clotildeperrot/anaconda3/envs/model_lab/lib/python3.10/site-packages (from matplotlib->pyiast) (4.54.1)\n",
      "Requirement already satisfied: kiwisolver>=1.3.1 in /Users/clotildeperrot/anaconda3/envs/model_lab/lib/python3.10/site-packages (from matplotlib->pyiast) (1.4.7)\n",
      "Requirement already satisfied: packaging>=20.0 in /Users/clotildeperrot/anaconda3/envs/model_lab/lib/python3.10/site-packages (from matplotlib->pyiast) (24.1)\n",
      "Requirement already satisfied: pillow>=8 in /Users/clotildeperrot/anaconda3/envs/model_lab/lib/python3.10/site-packages (from matplotlib->pyiast) (10.4.0)\n",
      "Requirement already satisfied: pyparsing>=2.3.1 in /Users/clotildeperrot/anaconda3/envs/model_lab/lib/python3.10/site-packages (from matplotlib->pyiast) (3.1.4)\n",
      "Requirement already satisfied: six>=1.5 in /Users/clotildeperrot/anaconda3/envs/model_lab/lib/python3.10/site-packages (from python-dateutil>=2.8.2->pandas>=0.24.0->pyiast) (1.16.0)\n",
      "Downloading scipy-1.14.1-cp310-cp310-macosx_14_0_arm64.whl (23.1 MB)\n",
      "\u001b[2K   \u001b[90m━━━━━━━━━━━━━━━━━━━━━━━━━━━━━━━━━━━━━━━━\u001b[0m \u001b[32m23.1/23.1 MB\u001b[0m \u001b[31m11.8 MB/s\u001b[0m eta \u001b[36m0:00:00\u001b[0ma \u001b[36m0:00:01\u001b[0m\n",
      "\u001b[?25hBuilding wheels for collected packages: pyiast\n",
      "  Building wheel for pyiast (setup.py) ... \u001b[?25ldone\n",
      "\u001b[?25h  Created wheel for pyiast: filename=pyiast-1.4.3-py3-none-any.whl size=10957 sha256=7516c9fed985d1bfbcd1209220ee660d3d3a48ad99c55f40e78daa73387a49e7\n",
      "  Stored in directory: /Users/clotildeperrot/Library/Caches/pip/wheels/1d/b7/06/52adac7e201f8f98bd033657e8c4beb90587129d966feb3b98\n",
      "Successfully built pyiast\n",
      "Installing collected packages: scipy, pyiast\n",
      "Successfully installed pyiast-1.4.3 scipy-1.14.1\n",
      "Note: you may need to restart the kernel to use updated packages.\n"
     ]
    }
   ],
   "source": [
    "pip install pyiast"
   ]
  },
  {
   "cell_type": "code",
   "execution_count": 3,
   "id": "7a389354-7d48-44a4-b825-baf5f0f8fd6c",
   "metadata": {},
   "outputs": [],
   "source": [
    "import pyiast\n",
    "import pandas as pd\n",
    "import numpy as np\n",
    "import matplotlib.pyplot as plt"
   ]
  },
  {
   "cell_type": "code",
   "execution_count": 4,
   "id": "f6afaa99-b4ad-47b2-96fb-9c381d4371dc",
   "metadata": {},
   "outputs": [],
   "source": [
    "#data importation\n",
    "df_ch4 = pd.read_csv(\"CH4_IRMOF1.csv\")\n",
    "df_co2 = pd.read_csv(\"CO2_IRMOF1.csv\")"
   ]
  },
  {
   "cell_type": "code",
   "execution_count": 13,
   "id": "00e25f84-638b-4d8e-92c8-d0c288cddd9b",
   "metadata": {},
   "outputs": [],
   "source": [
    "#obtain p and q values\n",
    "ch4_isotherm = pyiast.InterpolatorIsotherm(df_ch4,\n",
    "                                    loading_key=\"Loading(mmol/g)\",\n",
    "                                    pressure_key=\"Pressure(bar)\")\n",
    "ch4_isotherm = pyiast.InterpolatorIsotherm(df_ch4,\n",
    "                                    loading_key=\"Loading(mmol/g)\",\n",
    "                                    pressure_key=\"Pressure(bar)\",\n",
    "                                    fill_value=df_ch4['Loading(mmol/g)'].max())"
   ]
  },
  {
   "cell_type": "code",
   "execution_count": 14,
   "id": "b7e0478f-34e8-49cf-8ed7-0b253df2ac4b",
   "metadata": {},
   "outputs": [],
   "source": [
    "#obtain p and q values\n",
    "co2_isotherm = pyiast.InterpolatorIsotherm(df_co2,\n",
    "                                    loading_key=\"Loading(mmol/g)\",\n",
    "                                    pressure_key=\"Pressure(bar)\")\n",
    "co2_isotherm = pyiast.InterpolatorIsotherm(df_co2,\n",
    "                                    loading_key=\"Loading(mmol/g)\",\n",
    "                                    pressure_key=\"Pressure(bar)\",\n",
    "                                    fill_value=df_co2['Loading(mmol/g)'].max())"
   ]
  },
  {
   "cell_type": "code",
   "execution_count": 15,
   "id": "96f4aaef-b159-4b46-9507-84213e8c0fa9",
   "metadata": {},
   "outputs": [
    {
     "name": "stdout",
     "output_type": "stream",
     "text": [
      "(array(0.053378), array(0.01081197))\n"
     ]
    }
   ],
   "source": [
    "valeur_q_01= (co2_isotherm.loading(0.1),ch4_isotherm.loading(0.1))\n",
    "print(valeur_q_01)"
   ]
  },
  {
   "cell_type": "code",
   "execution_count": 16,
   "id": "1ae5c399-5994-4705-88d6-8443d93f27d9",
   "metadata": {},
   "outputs": [
    {
     "name": "stdout",
     "output_type": "stream",
     "text": [
      "(array(0.56673541), array(0.11533577))\n"
     ]
    }
   ],
   "source": [
    "valeur_q_1= (co2_isotherm.loading(1),ch4_isotherm.loading(1))\n",
    "print(valeur_q_1)"
   ]
  },
  {
   "cell_type": "code",
   "execution_count": null,
   "id": "c4a7823b-7f0f-42da-9d30-da13a4db6be5",
   "metadata": {},
   "outputs": [],
   "source": []
  }
 ],
 "metadata": {
  "kernelspec": {
   "display_name": "Python 3 (ipykernel)",
   "language": "python",
   "name": "python3"
  },
  "language_info": {
   "codemirror_mode": {
    "name": "ipython",
    "version": 3
   },
   "file_extension": ".py",
   "mimetype": "text/x-python",
   "name": "python",
   "nbconvert_exporter": "python",
   "pygments_lexer": "ipython3",
   "version": "3.10.14"
  }
 },
 "nbformat": 4,
 "nbformat_minor": 5
}
