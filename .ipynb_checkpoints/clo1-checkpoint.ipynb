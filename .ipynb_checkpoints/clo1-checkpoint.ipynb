{
 "cells": [
  {
   "cell_type": "markdown",
   "id": "9682b3e5-32f5-41b7-bde6-f010563404e6",
   "metadata": {},
   "source": [
    "Isotherms fitting to the Langmuir model : "
   ]
  },
  {
   "cell_type": "code",
   "execution_count": null,
   "id": "b8f36eee-b529-4bba-a14a-60b6c25173e3",
   "metadata": {},
   "outputs": [],
   "source": [
    "#isotherms :\n"
   ]
  }
 ],
 "metadata": {
  "kernelspec": {
   "display_name": "Python 3 (ipykernel)",
   "language": "python",
   "name": "python3"
  },
  "language_info": {
   "codemirror_mode": {
    "name": "ipython",
    "version": 3
   },
   "file_extension": ".py",
   "mimetype": "text/x-python",
   "name": "python",
   "nbconvert_exporter": "python",
   "pygments_lexer": "ipython3",
   "version": "3.10.14"
  }
 },
 "nbformat": 4,
 "nbformat_minor": 5
}
