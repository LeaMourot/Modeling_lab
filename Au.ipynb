{
 "cells": [
  {
   "cell_type": "markdown",
   "id": "beb144bd-0952-44d0-a5ae-82bc08a54ec6",
   "metadata": {},
   "source": [
    "# Part A"
   ]
  },
  {
   "cell_type": "code",
   "execution_count": 1,
   "id": "6626ecc1-cbb7-4931-839a-97e42ef91b02",
   "metadata": {},
   "outputs": [],
   "source": [
    "import pandas as pd\n",
    "\n",
    "df = pd.read_csv('.\\\\1-PeriodicTable.csv')\n"
   ]
  },
  {
   "cell_type": "markdown",
   "id": "ebbbe7a5-709e-4e53-b390-705ca3b57ae9",
   "metadata": {},
   "source": [
    "**1. Explain what the data is about**"
   ]
  },
  {
   "cell_type": "markdown",
   "id": "25dbd619-60c7-4cd8-b066-19de25fa14ce",
   "metadata": {},
   "source": [
    "This document is a table gathering different characteristics of the periodic table elements as their atomic number, symbol, name, atomic mass, electronic configuration, CPKHexColor, electronegativity, atomic radius, ionization energy, electron affinity, oxidation states, standard states, melting point, boiling point, density, group block and finally year discovery."
   ]
  },
  {
   "cell_type": "markdown",
   "id": "ba7d7418-73d1-4fcd-b48e-f3fb603b1d21",
   "metadata": {},
   "source": [
    "**2. What are the datatypes in your dataframe ?**"
   ]
  },
  {
   "cell_type": "markdown",
   "id": "1416f823-4e9a-427e-b74c-047b04605d62",
   "metadata": {},
   "source": [
    "The datatypes of each characteristic in our dataframe are :\n",
    "- atomic numbers are integers (int64)\n",
    "- symbol, name, CPKHexColor, electron configuration, oxidation states, standard state, group block and year discovery are strings\n",
    "- atomic mass, electronegativity, atomic radius, ionization energy, electron affinity, melting point, boiling point and density are float (float64)\n",
    "\n",
    "The following code was used to check the datatypes of our dataframe : \n"
   ]
  },
  {
   "cell_type": "code",
   "execution_count": 7,
   "id": "ac45f132-1804-4ee6-be07-002ace228004",
   "metadata": {},
   "outputs": [
    {
     "name": "stdout",
     "output_type": "stream",
     "text": [
      " AtomicNumber | Type: <class 'numpy.int64'>\n",
      " Symbol | Type: <class 'str'>\n",
      " Name | Type: <class 'str'>\n",
      " AtomicMass | Type: <class 'numpy.float64'>\n",
      " CPKHexColor | Type: <class 'str'>\n",
      " ElectronConfiguration | Type: <class 'str'>\n",
      " Electronegativity | Type: <class 'numpy.float64'>\n",
      " AtomicRadius | Type: <class 'numpy.float64'>\n",
      " IonizationEnergy | Type: <class 'numpy.float64'>\n",
      " ElectronAffinity | Type: <class 'numpy.float64'>\n",
      " OxidationStates | Type: <class 'str'>\n",
      " StandardState | Type: <class 'str'>\n",
      " MeltingPoint | Type: <class 'numpy.float64'>\n",
      " BoilingPoint | Type: <class 'numpy.float64'>\n",
      " Density | Type: <class 'numpy.float64'>\n",
      " GroupBlock | Type: <class 'str'>\n",
      " YearDiscovered | Type: <class 'str'>\n"
     ]
    }
   ],
   "source": [
    "hydrogen_info = df.loc[0]\n",
    "for column in df.columns:\n",
    "    value = hydrogen_info[column]\n",
    "    print(f\" {column} | Type: {type(value)}\")"
   ]
  },
  {
   "cell_type": "markdown",
   "id": "2375a16d-b8ce-41f4-aa9b-e7cc52ae53ab",
   "metadata": {},
   "source": [
    "**3.How many rows and columns do you have ?**"
   ]
  },
  {
   "cell_type": "markdown",
   "id": "f426ccf7-5ebb-48a5-be1b-bb4feb63d57e",
   "metadata": {},
   "source": [
    "We have in our dataframe 118 rows (without counting the title of each column) and 17 columns."
   ]
  },
  {
   "cell_type": "markdown",
   "id": "b2995312-3778-43e9-9930-11c5cfc7681a",
   "metadata": {},
   "source": [
    "**4.Do you have missing data ? If yes, how many ?**"
   ]
  },
  {
   "cell_type": "markdown",
   "id": "ac1f0a11-ac9a-49a0-8e91-2b7896b863b5",
   "metadata": {},
   "source": [
    "We have 192 types of data that are missed in our dataframe : \n",
    "- CPKHexColor : 10 missing values\n",
    "- Electronegativity : 23 missing values\n",
    "- Atomic Radius : 19 missing values\n",
    "- Ionization Energy : 16 missing values\n",
    "- Electron Affinity : 61 missing values\n",
    "- Oxidation States : 1 missing value\n",
    "- Melting Point : 15 missing values\n",
    "- Boiling Point : 25 missing values\n",
    "- Density : 22 missing values"
   ]
  },
  {
   "cell_type": "markdown",
   "id": "22b7ff44-fce7-4797-8309-260e97b0adf0",
   "metadata": {},
   "source": [
    "# Part B"
   ]
  },
  {
   "cell_type": "markdown",
   "id": "870a3811-d037-40ff-ac5c-7f7778d94631",
   "metadata": {},
   "source": [
    "**1.Select 2 subsets (i.e., certain rows) of your data using Boolean indexing. The selection\n",
    "must be based on 2 different conditions**"
   ]
  },
  {
   "cell_type": "code",
   "execution_count": null,
   "id": "00893a83-96a5-4b6f-b3e1-15c04dd485a3",
   "metadata": {},
   "outputs": [],
   "source": []
  },
  {
   "cell_type": "markdown",
   "id": "3b1949d3-d49c-4079-a039-65dfb22389c5",
   "metadata": {},
   "source": [
    "**2.Explain your choices**"
   ]
  },
  {
   "cell_type": "code",
   "execution_count": null,
   "id": "821a483b-6953-40e9-85b3-7bd66860ae5e",
   "metadata": {},
   "outputs": [],
   "source": []
  },
  {
   "cell_type": "markdown",
   "id": "d557363d-5765-4d33-afc2-4760fa7f84d6",
   "metadata": {},
   "source": [
    "**3.Discuss at least 4 interesting points of your data. For instance, you can find maxima,\n",
    "minima, mean, standard deviation, etc…**"
   ]
  },
  {
   "cell_type": "markdown",
   "id": "361e2570-8765-4dc2-8b63-07427c5d39b8",
   "metadata": {},
   "source": [
    "# Part C"
   ]
  },
  {
   "cell_type": "markdown",
   "id": "27fe132b-d6aa-4232-a0ee-78ce09dfd2dc",
   "metadata": {},
   "source": [
    "**1.Show parts of your data by creating 2 different data plots. Make sure you use 2 different\n",
    "plot types (scatter, histograms, density, pie-charts, Venn diagrams, etc…). For that you\n",
    "can use different libraries (matplotlib, seaborn, Bokeh, venn, etc…). Please add a title,\n",
    "proper axis labels and legends and make sure the plots are meaningful and readable.**\n"
   ]
  },
  {
   "cell_type": "code",
   "execution_count": null,
   "id": "ab7a27fa-a487-43d8-a513-3ad6a2d68839",
   "metadata": {},
   "outputs": [],
   "source": []
  },
  {
   "cell_type": "markdown",
   "id": "c26313df-45c1-44d4-b4a4-40887c5ecbf4",
   "metadata": {},
   "source": [
    "**2.Discuss the plots (5 each)**"
   ]
  },
  {
   "cell_type": "code",
   "execution_count": null,
   "id": "7673cec3-bf6f-47c8-a42b-ba752f5d4c43",
   "metadata": {},
   "outputs": [],
   "source": []
  }
 ],
 "metadata": {
  "kernelspec": {
   "display_name": "Python 3 (ipykernel)",
   "language": "python",
   "name": "python3"
  },
  "language_info": {
   "codemirror_mode": {
    "name": "ipython",
    "version": 3
   },
   "file_extension": ".py",
   "mimetype": "text/x-python",
   "name": "python",
   "nbconvert_exporter": "python",
   "pygments_lexer": "ipython3",
   "version": "3.11.5"
  }
 },
 "nbformat": 4,
 "nbformat_minor": 5
}
