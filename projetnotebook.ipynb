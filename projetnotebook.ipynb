{
 "cells": [
  {
   "cell_type": "code",
   "execution_count": 69,
   "id": "eb57140f-f9fb-4678-9368-b991ab36ebd7",
   "metadata": {},
   "outputs": [],
   "source": [
    "import pyiast\n",
    "import pandas as pd\n",
    "import numpy as np\n",
    "import matplotlib.pyplot as plt"
   ]
  },
  {
   "cell_type": "markdown",
   "id": "e33cdbca-2574-424f-874d-2fe04bc3a406",
   "metadata": {},
   "source": [
    "**Aiida Lab data importation**"
   ]
  },
  {
   "cell_type": "code",
   "execution_count": 93,
   "id": "87defc73-86ee-4d17-876d-5c932c2e6517",
   "metadata": {},
   "outputs": [],
   "source": [
    "#entre liste des pression et liste des loading_absolute_average, les transfo en csv file puis les importe sur ce doc\n",
    "def conv_to_csv(pressure,loading_absolute_average,mof_gas):\n",
    "    df = pd.DataFrame({\n",
    "        'Pressure (bar)': pressure,\n",
    "        'Loading (mmol/g)': loading_absolute_average\n",
    "    })\n",
    "\n",
    "    # Save data into a csv file\n",
    "    file_name = f'isotherm_data_{mof_gas}.csv'\n",
    "    df.to_csv(file_name, index=False)\n",
    "    return\n",
    "\n",
    "    #import data from the csv file\n",
    "def import_data(mof_gas):\n",
    "    file_name = f'isotherm_data_{mof_gas}.csv'\n",
    "    df_mof = pd.read_csv(file_name)\n",
    "    return df_mof"
   ]
  },
  {
   "cell_type": "markdown",
   "id": "4a366823-9d00-4e63-b318-a42a0791c1a2",
   "metadata": {},
   "source": [
    "**Loading q values in pure conditions**"
   ]
  },
  {
   "cell_type": "code",
   "execution_count": 94,
   "id": "8665b941-6ba3-415f-a9a7-c00321fa87dc",
   "metadata": {},
   "outputs": [],
   "source": [
    "def get_pure_q(df_mof):\n",
    "    pure_isotherm = pyiast.InterpolatorIsotherm(df_mof,\n",
    "                                        loading_key=\"Loading (mmol/g)\",\n",
    "                                        pressure_key=\"Pressure (bar)\")\n",
    "    pure_isotherm = pyiast.InterpolatorIsotherm(df_mof,\n",
    "                                        loading_key=\"Loading (mmol/g)\",\n",
    "                                        pressure_key=\"Pressure (bar)\",\n",
    "                                        fill_value=df_mof['Loading (mmol/g)'].max())\n",
    "    return pure_isotherm"
   ]
  },
  {
   "cell_type": "markdown",
   "id": "67f2ec58-f547-497b-b64e-466ee59e4cd7",
   "metadata": {},
   "source": [
    "**Loading q values in binary mixture**"
   ]
  },
  {
   "cell_type": "code",
   "execution_count": 95,
   "id": "c7adbb3e-2578-49db-a911-c079678f8279",
   "metadata": {},
   "outputs": [],
   "source": [
    "def get_mixt_q(N2_isotherm, CO2_isotherm, pressure):\n",
    "    p_part = pressure*np.array([0.85,0.15])\n",
    "    q_mix = pyiast.iast(p_part, [N2_isotherm, CO2_isotherm], verboseflag=False)\n",
    "    return q_mix"
   ]
  },
  {
   "cell_type": "markdown",
   "id": "99c7ae15-9757-4b41-bc93-91453cb79aa7",
   "metadata": {},
   "source": [
    "**selectivity and q_mix calculation**"
   ]
  },
  {
   "cell_type": "code",
   "execution_count": 96,
   "id": "a328954b-4946-43ba-a8c7-a7a44c13a5b5",
   "metadata": {},
   "outputs": [],
   "source": [
    "def get_selectivity(mof_N2,mof_CO2, S_pressure):\n",
    "    name_N2 = f\"{mof_N2}\"\n",
    "    name_CO2 = f\"{mof_CO2}\"\n",
    "\n",
    "    df_N2 = import_data(name_N2)\n",
    "    df_CO2 = import_data(name_CO2)\n",
    "    \n",
    "    N2_isotherm = get_pure_q(df_N2)\n",
    "    CO2_isotherm = get_pure_q(df_CO2)\n",
    "    \n",
    "    q_mix = get_mixt_q(N2_isotherm, CO2_isotherm, S_pressure)\n",
    "    Selectivity_mof = (0.85/0.15)*(q_mix[1]/q_mix[0])\n",
    "    return Selectivity_mof , q_mix"
   ]
  },
  {
   "cell_type": "markdown",
   "id": "519bde32-7ee1-479c-8501-980f340cfbcf",
   "metadata": {},
   "source": [
    "**for NOTT**"
   ]
  },
  {
   "cell_type": "code",
   "execution_count": 97,
   "id": "f503c418-df7d-41db-97d6-d1a6b953ef60",
   "metadata": {},
   "outputs": [
    {
     "name": "stdout",
     "output_type": "stream",
     "text": [
      "14.531504153242693\n",
      "[0.15820241 0.40569159]\n",
      "0.4056915919660641\n"
     ]
    }
   ],
   "source": [
    "\n",
    "P_list_CO2 =  [0.2, 0.3266840603101, 0.48686234189789, 0.69500812430223, 0.97485889138887, 1.3678130038057, 1.951904804549, 2.551904804549, 3.151904804549, 3.751904804549, 4.351904804549, 4.951904804549, 5.551904804549, 6.151904804549, 6.751904804549, 7.351904804549, 7.951904804549, 8.551904804549, 9.151904804549, 9.751904804549, 10.2]\n",
    "q_mean_CO2=[2.732727414792, 4.369949526912, 5.7705666370224, 6.8743309833244, 7.598813085141, 8.2150826016624, 8.6262039121069, 8.846552379985, 9.0288549244554, 9.1648323824958, 9.2861528044446, 9.3393688103836, 9.4082578858388, 9.4298963790073, 9.4631941067159, 9.5820096542812, 9.5691030123974, 9.6485346916435, 9.603024443808, 9.6529810951878, 9.7229767415754]\n",
    "P_list_N2 = [0.2, 0.8, 1.4, 2.0, 2.6, 3.2, 3.8, 4.4, 5.0, 5.6, 6.2, 6.8, 7.4, 8.0, 8.6, 9.2, 9.8, 10.2]\n",
    "q_mean_N2 = [0.19363986752364, 0.719462293293, 1.1852683313032, 1.5837143737829, 1.964938147429, 2.3003800603546, 2.6374516505899, 2.9101006884275, 3.1565843516202, 3.4335188371982, 3.664822358103, 3.8379403631471, 4.031771365684, 4.2347466686208, 4.4040319141264, 4.5423130517804, 4.6845174866617, 4.786422617184]\n",
    "\n",
    "\n",
    "\n",
    "mof_CO2 = \"NOTT_300_CO2\"\n",
    "mof_N2 = \"NOTT_300_N2\"\n",
    "\n",
    "\n",
    "fichier_CO2 = conv_to_csv(P_list_CO2,q_mean_CO2,mof_CO2)\n",
    "fichier_N2 = conv_to_csv(P_list_N2,q_mean_N2,mof_N2)\n",
    "\n",
    "S_pressure = 0.2\n",
    "S , q_mix_NOTT_02 = get_selectivity(mof_N2,mof_CO2, S_pressure)\n",
    "q_mix_NOTT_CO2_02=q_mix_NOTT_02[1]\n",
    "print(S)\n",
    "print(q_mix_NOTT_02)\n",
    "print(q_mix_NOTT_CO2_02) #q of N2 and then q of CO2"
   ]
  },
  {
   "cell_type": "code",
   "execution_count": 98,
   "id": "032a55b0-bec4-4491-a465-e710dd7e4c5e",
   "metadata": {},
   "outputs": [
    {
     "name": "stdout",
     "output_type": "stream",
     "text": [
      "16.52407564396486\n",
      "[0.67507112 1.96851641]\n",
      "1.9685164086523286\n"
     ]
    }
   ],
   "source": [
    "\n",
    "\n",
    "S_pressure = 1\n",
    "S , q_mix_NOTT_1 = get_selectivity(mof_N2,mof_CO2, S_pressure)\n",
    "q_mix_NOTT_CO2_1=q_mix_NOTT_1[1]\n",
    "print(S)\n",
    "print(q_mix_NOTT_1)\n",
    "print(q_mix_NOTT_CO2_1) #q of N2 and then q of CO2\n"
   ]
  },
  {
   "cell_type": "markdown",
   "id": "fb9802f2-51ad-444d-acad-57c67d9c30a2",
   "metadata": {},
   "source": [
    "**Calculation of Working Capacity of NOTT**"
   ]
  },
  {
   "cell_type": "code",
   "execution_count": 99,
   "id": "8e5d18dc-7d59-409a-8d60-1e288e8a467f",
   "metadata": {},
   "outputs": [
    {
     "name": "stdout",
     "output_type": "stream",
     "text": [
      "1.5628248166862644\n"
     ]
    }
   ],
   "source": [
    "W_NOTT = q_mix_NOTT_CO2_1 - q_mix_NOTT_CO2_02\n",
    "print(W_NOTT)"
   ]
  },
  {
   "cell_type": "markdown",
   "id": "275afdc0-1745-4f8c-87ac-252be921f5d7",
   "metadata": {},
   "source": [
    "**for Mg MOF**"
   ]
  },
  {
   "cell_type": "code",
   "execution_count": 103,
   "id": "ab14387e-8b37-4dcb-abb0-350d46be9ba8",
   "metadata": {},
   "outputs": [
    {
     "name": "stdout",
     "output_type": "stream",
     "text": [
      "4.488274064277231\n",
      "[0.04453978 0.03527766]\n",
      "0.035277663422569015\n"
     ]
    }
   ],
   "source": [
    "P_list_CO2 =  [0.2, 0.8, 1.4, 2.0, 2.6, 3.2, 3.8, 4.4, 5.0, 5.6, 6.2, 6.8, 7.4, 8.0, 8.6, 9.2, 9.8, 10.2]\n",
    "q_mean_CO2=[0.23575968759626, 0.98475549405786, 1.8503006720399, 2.7077428446667, 3.6901292397011, 4.821734538441, 5.8649964779462, 6.635211171313, 7.4943700823624, 8.2962757670132, 8.5992285964759, 9.203984040658, 9.7064218748443, 10.027881144504, 10.348482044953, 10.553271771403, 10.764379095248, 10.953048647908]\n",
    "P_list_N2 = [0.2, 0.8, 1.4, 2.0, 2.6, 3.2, 3.8, 4.4, 5.0, 5.6, 6.2, 6.8, 7.4, 8.0, 8.6, 9.2, 9.8, 10.2]\n",
    "q_mean_N2 = [0.052583697888832, 0.20784552084234, 0.35462665598747, 0.5127725994912, 0.6547296996684, 0.78499581118667, 0.91900441246653, 1.055776962607, 1.2148671122433, 1.3078284978352, 1.4631418229414, 1.5659572870799, 1.6924809088365, 1.8241547458615, 1.885013122948, 1.9804466118686, 2.1478114407025, 2.2276397773604]\n",
    "\n",
    "\n",
    "mof_CO2 = \"Mg_MOF_CO2\"\n",
    "mof_N2 = \"Mg_MOF_N2\"\n",
    "\n",
    "\n",
    "fichier_CO2 = conv_to_csv(P_list_CO2,q_mean_CO2,mof_CO2)\n",
    "fichier_N2 = conv_to_csv(P_list_N2,q_mean_N2,mof_N2)\n",
    "\n",
    "\n",
    "S_pressure = 0.2\n",
    "S , q_mix_Mg_02 = get_selectivity(mof_N2,mof_CO2, S_pressure)\n",
    "q_mix_Mg_CO2_02=q_mix_Mg_02[1]\n",
    "print(S)\n",
    "print(q_mix_Mg_02)\n",
    "print(q_mix_Mg_CO2_02)#q of N2 then q of CO2"
   ]
  },
  {
   "cell_type": "code",
   "execution_count": 106,
   "id": "b2cd9cfd-afea-4b65-aa2d-28e579364036",
   "metadata": {},
   "outputs": [
    {
     "name": "stdout",
     "output_type": "stream",
     "text": [
      "4.585586617478118\n",
      "[0.21943318 0.17756997]\n",
      "0.1775699742401944\n"
     ]
    }
   ],
   "source": [
    " \n",
    "S_pressure = 1\n",
    "S , q_mix_Mg_1 = get_selectivity(mof_N2,mof_CO2, S_pressure)\n",
    "q_mix_Mg_CO2_1=q_mix_Mg_1[1]\n",
    "print(S)\n",
    "print(q_mix_Mg_1)\n",
    "print(q_mix_Mg_CO2_1)\n",
    "#q of N2 and then q of CO2"
   ]
  },
  {
   "cell_type": "markdown",
   "id": "9a414c53-ae56-4305-929e-522147772606",
   "metadata": {},
   "source": [
    "**Calculation of Working Capacity of Mg**"
   ]
  },
  {
   "cell_type": "code",
   "execution_count": 107,
   "id": "8e0e92c1-f687-4383-8f90-96703dff9135",
   "metadata": {},
   "outputs": [
    {
     "name": "stdout",
     "output_type": "stream",
     "text": [
      "0.1422923108176254\n"
     ]
    }
   ],
   "source": [
    "W_Mg = q_mix_Mg_CO2_1 - q_mix_Mg_CO2_02\n",
    "print(W_Mg)"
   ]
  },
  {
   "cell_type": "markdown",
   "id": "257dbb83-fa02-4e92-9e42-cac9b773a8f6",
   "metadata": {},
   "source": [
    "**for UTSA-20**"
   ]
  },
  {
   "cell_type": "code",
   "execution_count": 108,
   "id": "24d1e9e0-d96d-470d-8d71-071b7b9102bf",
   "metadata": {},
   "outputs": [
    {
     "name": "stdout",
     "output_type": "stream",
     "text": [
      "7.834786517779227\n",
      "[0.06916688 0.09563078]\n",
      "0.09563077934408999\n"
     ]
    }
   ],
   "source": [
    "P_list_CO2 =  [0.2, 0.66381721559481, 1.2298724660926, 1.8298724660926, 2.4298724660926, 3.0298724660926, 3.6298724660926, 4.2298724660926, 4.8298724660926, 5.4298724660926, 6.0298724660926, 6.6298724660926, 7.2298724660926, 7.8298724660926, 8.4298724660926, 9.0298724660926, 9.6298724660926, 10.2]\n",
    "q_mean_CO2=[0.63946236515945, 1.9724895914484, 3.4569226858202, 4.4732069487837, 5.3521324574436, 6.0205913102688, 6.579024095708, 7.0017784828232, 7.3607290084119, 7.669732401093, 8.0171687632951, 8.3256175557268, 8.492933001113, 8.7782044696897, 9.0469538174041, 9.2581902914954, 9.4641622020254, 9.7410898340143]\n",
    "P_list_N2 = [0.2, 0.8, 1.4, 2.0, 2.6, 3.2, 3.8, 4.4, 5.0, 5.6, 6.2, 6.8, 7.4, 8.0, 8.6, 9.2, 9.8, 10.2]\n",
    "q_mean_N2 = [0.08188217413345, 0.32251246144232, 0.53957637696006, 0.76012516867171, 0.95660265403681, 1.1491068838839, 1.3278371612686, 1.4974372285776, 1.6924826864331, 1.8655014090106, 2.0024876706094, 2.1327525082901, 2.3114248423652, 2.4386021294038, 2.5679647069774, 2.7012177639123, 2.8451820555145, 2.8981836286015]\n",
    "\n",
    "\n",
    "mof_CO2 = \"UTSA_20_CO2\"\n",
    "mof_N2 = \"UTSA_20_N2\"\n",
    "\n",
    "\n",
    "fichier_CO2 = conv_to_csv(P_list_CO2,q_mean_CO2,mof_CO2)\n",
    "fichier_N2 = conv_to_csv(P_list_N2,q_mean_N2,mof_N2)\n",
    "\n",
    "\n",
    "S_pressure = 0.2\n",
    "S , q_mix_UTSA20_02 = get_selectivity(mof_N2,mof_CO2, S_pressure)\n",
    "q_mix_UTSA20_CO2_02=q_mix_UTSA20_02[1]\n",
    "print(S)\n",
    "print(q_mix_UTSA20_02)\n",
    "print(q_mix_UTSA20_CO2_02)#q of N2 then q CO2"
   ]
  },
  {
   "cell_type": "code",
   "execution_count": 109,
   "id": "b5ef813d-f32b-41a0-9848-1ecfb5310cb6",
   "metadata": {},
   "outputs": [
    {
     "name": "stdout",
     "output_type": "stream",
     "text": [
      "8.084929809435833\n",
      "[0.32583453 0.46488517]\n",
      "0.46488516709640537\n"
     ]
    }
   ],
   "source": [
    "\n",
    "S_pressure = 1\n",
    "S , q_mix_UTSA20_1 = get_selectivity(mof_N2,mof_CO2, S_pressure)\n",
    "q_mix_UTSA20_CO2_1=q_mix_UTSA20_1[1]\n",
    "print(S)\n",
    "print(q_mix_UTSA20_1)\n",
    "print(q_mix_UTSA20_CO2_1)\n",
    "#q of N2 and then q of CO2"
   ]
  },
  {
   "cell_type": "markdown",
   "id": "70895a0d-c3c2-4cbb-b66f-bcd5900d910b",
   "metadata": {},
   "source": [
    "**Calculation of Working Capacity of UTSA-20**"
   ]
  },
  {
   "cell_type": "code",
   "execution_count": 110,
   "id": "bcb07e78-3685-46c0-b285-5362cc06b3ea",
   "metadata": {},
   "outputs": [
    {
     "name": "stdout",
     "output_type": "stream",
     "text": [
      "0.3692543877523154\n"
     ]
    }
   ],
   "source": [
    "W_UTSA_20 = q_mix_UTSA20_CO2_1 - q_mix_UTSA20_CO2_02\n",
    "print(W_UTSA_20)"
   ]
  },
  {
   "cell_type": "markdown",
   "id": "a30f58ac-2b0c-4623-813b-efe0c35136b0",
   "metadata": {},
   "source": [
    "**for UTSA 80**"
   ]
  },
  {
   "cell_type": "code",
   "execution_count": 112,
   "id": "87a7a72d-5cc2-472d-a1ae-441d180b1f3d",
   "metadata": {},
   "outputs": [
    {
     "name": "stdout",
     "output_type": "stream",
     "text": [
      "4.784444117141291\n",
      "[0.05591037 0.04720589]\n",
      "0.047205893280265004\n"
     ]
    }
   ],
   "source": [
    "P_list_CO2 =  [0.2, 0.8, 1.4, 2.0, 2.6, 3.2, 3.8, 4.4, 5.0, 5.6, 6.2, 6.8, 7.4, 8.0, 8.6, 9.2, 9.8, 10.2]\n",
    "q_mean_CO2=[0.31424485381695, 1.1580909367748, 2.038693985348, 2.9664843410745, 3.8041249233618, 4.7398294176147, 5.6300892453135, 6.571769721719, 7.5454467796638, 8.1926294954818, 9.0655394233608, 9.9333829424732, 10.499469115282, 11.176310724031, 11.800907117546, 12.322322186213, 12.73597406036, 13.056237399758]\n",
    "P_list_N2 = [0.2, 0.8, 1.4, 2.0, 2.6, 3.2, 3.8, 4.4, 5.0, 5.6, 6.2, 6.8, 7.4, 8.0, 8.6, 9.2, 9.8, 10.2]\n",
    "q_mean_N2 = [0.06563379544785, 0.26439683199255, 0.45816146525745, 0.62400984619095, 0.8023627360098, 0.97143287688045, 1.1356066227015, 1.3174702957764, 1.4491204175354, 1.6241835419303, 1.7920465854102, 1.9268249595619, 2.1054243692705, 2.239310171408, 2.337518595033, 2.5546176109562, 2.6749108164195, 2.7594671385695]\n",
    "\n",
    "mof_CO2 = \"UTSA_80_CO2\"\n",
    "mof_N2 = \"UTSA_80_N2\"\n",
    "\n",
    "\n",
    "fichier_CO2 = conv_to_csv(P_list_CO2,q_mean_CO2,mof_CO2)\n",
    "fichier_N2 = conv_to_csv(P_list_N2,q_mean_N2,mof_N2)\n",
    "\n",
    "\n",
    "S_pressure = 0.2\n",
    "S , q_mix_UTSA80_02 = get_selectivity(mof_N2,mof_CO2, S_pressure)\n",
    "q_mix_UTSA80_CO2_02=q_mix_UTSA80_02[1]\n",
    "print(S)\n",
    "print(q_mix_UTSA80_02)\n",
    "print(q_mix_UTSA80_CO2_02)#q of N2 then q of CO2"
   ]
  },
  {
   "cell_type": "code",
   "execution_count": 113,
   "id": "3dde7473-c3b9-49e4-8fdc-ee96ab76a193",
   "metadata": {},
   "outputs": [
    {
     "name": "stdout",
     "output_type": "stream",
     "text": [
      "4.7365211033586565\n",
      "[0.2721755 0.2274997]\n",
      "0.22749970482841725\n"
     ]
    }
   ],
   "source": [
    "\n",
    "S_pressure = 1\n",
    "S , q_mix_UTSA80_1 = get_selectivity(mof_N2,mof_CO2, S_pressure)\n",
    "q_mix_UTSA80_CO2_1=q_mix_UTSA80_1[1]\n",
    "print(S)\n",
    "print(q_mix_UTSA80_1)\n",
    "print(q_mix_UTSA80_CO2_1)\n",
    "#q of N2 then q of CO2"
   ]
  },
  {
   "cell_type": "markdown",
   "id": "4c802f0d-1d08-4300-81d7-c5066c0acd10",
   "metadata": {},
   "source": [
    "**Calculation of Working Capacity of UTSA-80**"
   ]
  },
  {
   "cell_type": "code",
   "execution_count": 114,
   "id": "d683da85-a770-4452-9a83-6e85ae66ca93",
   "metadata": {},
   "outputs": [
    {
     "name": "stdout",
     "output_type": "stream",
     "text": [
      "0.18029381154815224\n"
     ]
    }
   ],
   "source": [
    "W_UTSA_80 = q_mix_UTSA80_CO2_1 - q_mix_UTSA80_CO2_02\n",
    "print(W_UTSA_80)"
   ]
  },
  {
   "cell_type": "markdown",
   "id": "ad750364-93e8-42f6-9c09-0566e13e8fe2",
   "metadata": {},
   "source": [
    "**RECAP OF THE RESULTS**"
   ]
  },
  {
   "cell_type": "code",
   "execution_count": 136,
   "id": "e8b7144b-33f6-4d7c-9d0c-2f4287d213af",
   "metadata": {},
   "outputs": [
    {
     "name": "stdout",
     "output_type": "stream",
     "text": [
      "\u001b[1mMOF                  WC             q adsorption             q desorption             \u001b[0m\n",
      "NOTT_300_CO2         1.56            1.97                      0.41                     \n",
      "Mg_MOF_CO2           0.14            0.18                      0.04                     \n",
      "UTSA_20_CO2          0.37            0.46                      0.1                      \n",
      "UTSA_80_CO2          0.18            0.23                      0.05                     \n"
     ]
    }
   ],
   "source": [
    "BOLD = \"\\033[1m\"\n",
    "RESET = \"\\033[0m\"\n",
    "\n",
    "\n",
    "MOF = [\"NOTT_300_CO2\", \"Mg_MOF_CO2\", \"UTSA_20_CO2\", \"UTSA_80_CO2\"]  \n",
    "WC = [1.5628248166862644, 0.1422923108176254, 0.3692543877523154, 0.18029381154815224]  \n",
    "binary_loading_adsorption = [1.9685164086523286, 0.1775699742401944, 0.46488516709640537, 0.22749970482841725]  \n",
    "binary_loading_desorption = [0.4056915919660641,0.035277663422569015, 0.09563077934408999 , 0.047205893280265004]\n",
    "\n",
    "column1 = [\"MOF\"] + MOF\n",
    "\n",
    "\n",
    "print(f\"{BOLD}{column1[0]:<20} {'WC':<15}{'q adsorption':<25}{'q desorption':<25}{RESET}\")\n",
    "\n",
    "\n",
    "for item1, wc_value, bin_load_ads, bin_load_des in zip(column1[1:], WC, binary_loading_adsorption, binary_loading_desorption):\n",
    "    print(f\"{item1:<20} {round(wc_value, 2):<15} {round(bin_load_ads, 2):<25} {round(bin_load_des, 2):<25}\")\n"
   ]
  },
  {
   "cell_type": "code",
   "execution_count": null,
   "id": "9a2e68c6-7409-4a1c-92dd-942e965a11c7",
   "metadata": {},
   "outputs": [],
   "source": []
  }
 ],
 "metadata": {
  "kernelspec": {
   "display_name": "Python 3 (ipykernel)",
   "language": "python",
   "name": "python3"
  },
  "language_info": {
   "codemirror_mode": {
    "name": "ipython",
    "version": 3
   },
   "file_extension": ".py",
   "mimetype": "text/x-python",
   "name": "python",
   "nbconvert_exporter": "python",
   "pygments_lexer": "ipython3",
   "version": "3.10.14"
  }
 },
 "nbformat": 4,
 "nbformat_minor": 5
}
